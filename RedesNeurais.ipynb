{
  "nbformat": 4,
  "nbformat_minor": 0,
  "metadata": {
    "colab": {
      "name": "RedesNeurais",
      "provenance": [],
      "authorship_tag": "ABX9TyNsdqR6ZrX7LHPpPR570RbV",
      "include_colab_link": true
    },
    "kernelspec": {
      "name": "python3",
      "display_name": "Python 3"
    },
    "language_info": {
      "name": "python"
    }
  },
  "cells": [
    {
      "cell_type": "markdown",
      "metadata": {
        "id": "view-in-github",
        "colab_type": "text"
      },
      "source": [
        "<a href=\"https://colab.research.google.com/github/GGMmattos/Machine-Learning-And-Data-Science/blob/main/RedesNeurais.ipynb\" target=\"_parent\"><img src=\"https://colab.research.google.com/assets/colab-badge.svg\" alt=\"Open In Colab\"/></a>"
      ]
    },
    {
      "cell_type": "markdown",
      "source": [
        "\n",
        "\n",
        "\n",
        "*   Reajuste dos pesos até que chegue nas respostas corretas( proximo dos 100%)\n",
        "*   Relação entre o atributo de entrada e o peso.\n",
        "\n",
        "\n",
        "*   Método tentativa e erro para encontrar o peso adequado \n",
        "\n",
        "\n",
        "\n",
        "\n"
      ],
      "metadata": {
        "id": "JJgrqkEa2fBG"
      }
    },
    {
      "cell_type": "markdown",
      "source": [
        "Funções de ativação\n",
        "\n",
        "*   Step\n",
        "*   Sigmoide\n",
        "*   Hyperbolic Tangent\n",
        "\n",
        "\n"
      ],
      "metadata": {
        "id": "47f60tyXCK6n"
      }
    },
    {
      "cell_type": "markdown",
      "source": [
        "**Coast function** = Função de erro "
      ],
      "metadata": {
        "id": "t0BRH5nxqPGP"
      }
    },
    {
      "cell_type": "markdown",
      "source": [
        "**Learning** rate: Define o quão rápido o algoritmo via aprender \n",
        "\n",
        "**Alto**: Convergência é rápida mas pode perder o mínimo global.\n",
        "\n",
        "**Baixo**: será lento mas tem chance de chegar no mínimo global."
      ],
      "metadata": {
        "id": "O5XZXLDEjv53"
      }
    },
    {
      "cell_type": "markdown",
      "source": [
        "**Momento(Momentum):** Escapar dos minimos locais(nem sempre funciona). Define o quão confiável é a ultima alterção "
      ],
      "metadata": {
        "id": "H_NS7S1TkF2u"
      }
    },
    {
      "cell_type": "code",
      "execution_count": null,
      "metadata": {
        "id": "5goK2Ul82aJU"
      },
      "outputs": [],
      "source": [
        ""
      ]
    }
  ]
}