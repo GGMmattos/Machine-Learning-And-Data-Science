{
  "nbformat": 4,
  "nbformat_minor": 0,
  "metadata": {
    "colab": {
      "name": "KNN.ipynb",
      "provenance": [],
      "authorship_tag": "ABX9TyM+aFCAyoe7HhnrZz4HWh2a",
      "include_colab_link": true
    },
    "kernelspec": {
      "name": "python3",
      "display_name": "Python 3"
    },
    "language_info": {
      "name": "python"
    }
  },
  "cells": [
    {
      "cell_type": "markdown",
      "metadata": {
        "id": "view-in-github",
        "colab_type": "text"
      },
      "source": [
        "<a href=\"https://colab.research.google.com/github/GGMmattos/Machine-Learning-And-Data-Science/blob/main/KNN.ipynb\" target=\"_parent\"><img src=\"https://colab.research.google.com/assets/colab-badge.svg\" alt=\"Open In Colab\"/></a>"
      ]
    },
    {
      "cell_type": "markdown",
      "source": [
        "# Classificação pela distancia -  Definida pelo K vizinho mais proximo \n",
        "Os métodos de aprendizagem baseados em instâncias simplesmente armazenam os exemplos de treinamento. A generalização é feita somente quando uma nova instância é classificada. Métodos de aprendizagem baseados em instâncias assumem que as instâncias podem ser representadas como pontos em um espaço euclidiano."
      ],
      "metadata": {
        "id": "B5RbsQ-ujkT-"
      }
    },
    {
      "cell_type": "code",
      "execution_count": null,
      "metadata": {
        "id": "05yY9keljfNm"
      },
      "outputs": [],
      "source": [
        ""
      ]
    }
  ]
}