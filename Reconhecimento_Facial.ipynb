{
  "nbformat": 4,
  "nbformat_minor": 0,
  "metadata": {
    "colab": {
      "provenance": [],
      "authorship_tag": "ABX9TyOhOhNz2W5ZG2u/6mGHJ65S",
      "include_colab_link": true
    },
    "kernelspec": {
      "name": "python3",
      "display_name": "Python 3"
    },
    "language_info": {
      "name": "python"
    }
  },
  "cells": [
    {
      "cell_type": "markdown",
      "metadata": {
        "id": "view-in-github",
        "colab_type": "text"
      },
      "source": [
        "<a href=\"https://colab.research.google.com/github/GGMmattos/Machine-Learning-And-Data-Science/blob/main/Reconhecimento_Facial.ipynb\" target=\"_parent\"><img src=\"https://colab.research.google.com/assets/colab-badge.svg\" alt=\"Open In Colab\"/></a>"
      ]
    },
    {
      "cell_type": "markdown",
      "source": [
        "# Treinamento\n"
      ],
      "metadata": {
        "id": "dnLVbJj7DLt8"
      }
    },
    {
      "cell_type": "code",
      "execution_count": 20,
      "metadata": {
        "id": "6SQTyWrzCdzO"
      },
      "outputs": [],
      "source": [
        "from PIL import Image\n",
        "import numpy as np\n",
        "import cv2\n",
        "import os"
      ]
    },
    {
      "cell_type": "code",
      "source": [
        "from google.colab import drive\n",
        "drive.mount('/content/drive')"
      ],
      "metadata": {
        "colab": {
          "base_uri": "https://localhost:8080/"
        },
        "id": "8OTngVTAEtTg",
        "outputId": "126f6a24-8d35-4c67-cd98-96939fa128fe"
      },
      "execution_count": 2,
      "outputs": [
        {
          "output_type": "stream",
          "name": "stdout",
          "text": [
            "Mounted at /content/drive\n"
          ]
        }
      ]
    },
    {
      "cell_type": "code",
      "source": [
        "import zipfile\n",
        "path = '/content/drive/MyDrive/Colab Notebooks/Curso de Py MACHINE LEANING/Materiais/Bases de dados/yalefaces.zip'\n",
        "zip_object  = zipfile.ZipFile(file=path, mode='r')\n",
        "zip_object.extractall('./')\n",
        "zip_object.close()"
      ],
      "metadata": {
        "id": "m-xvHXrzFM0F"
      },
      "execution_count": 3,
      "outputs": []
    },
    {
      "cell_type": "markdown",
      "source": [
        "Gerando matriz com os dados das faces e os IDS das pessoas."
      ],
      "metadata": {
        "id": "5gHP8CESNClq"
      }
    },
    {
      "cell_type": "code",
      "source": [
        "def dados_imagem():\n",
        "  caminhos = [os.path.join('/content/drive/MyDrive/Colab Notebooks/Curso de Py MACHINE LEANING/Materiais/Bases de dados/yalefaces/train', f) for f in os.listdir('/content/drive/MyDrive/Colab Notebooks/Curso de Py MACHINE LEANING/Materiais/Bases de dados/yalefaces/train')]\n",
        "  faces = []\n",
        "  ids = []\n",
        "  for caminho in caminhos:\n",
        "    imagem = Image.open(caminho).convert('L') #L = Escala de cinza (2 canais) | P = RGB (3 canais)\n",
        "    imagem_np = np.array(imagem, 'uint8')\n",
        "    id = int(os.path.split(caminho)[1].split('.')[0].replace('subject', '')) #busca dos IDs\n",
        "    ids.append(id)\n",
        "    faces.append(imagem_np)\n",
        "  return np.array(ids), faces\n"
      ],
      "metadata": {
        "id": "N5G4GLHeMmTK"
      },
      "execution_count": 4,
      "outputs": []
    },
    {
      "cell_type": "code",
      "source": [
        "ids, faces = dados_imagem()"
      ],
      "metadata": {
        "id": "bQigy6-sORcb"
      },
      "execution_count": 5,
      "outputs": []
    },
    {
      "cell_type": "code",
      "source": [
        "lbph = cv2.face.LBPHFaceRecognizer_create()\n",
        "lbph.train(faces, ids)\n",
        "lbph.write('cassificadorLBPH.yml')"
      ],
      "metadata": {
        "id": "2s--UMgkO9I7"
      },
      "execution_count": 6,
      "outputs": []
    },
    {
      "cell_type": "markdown",
      "source": [
        "# Classificação"
      ],
      "metadata": {
        "id": "y_Wb8gHkRm8x"
      }
    },
    {
      "cell_type": "code",
      "source": [
        "reconhecedor = cv2.face.LBPHFaceRecognizer_create()\n",
        "reconhecedor.read('/content/drive/MyDrive/Colab Notebooks/Curso de Py MACHINE LEANING/Materiais/Bases de dados/yalefaces/Modelo/cassificadorLBPH.yml')"
      ],
      "metadata": {
        "id": "DmohKiW9R3j0"
      },
      "execution_count": 28,
      "outputs": []
    },
    {
      "cell_type": "code",
      "source": [
        "imagem_teste = '/content/drive/MyDrive/Colab Notebooks/Curso de Py MACHINE LEANING/Materiais/Bases de dados/yalefaces/test/subject03.glasses.gif'"
      ],
      "metadata": {
        "id": "9M1MJnSsUsN4"
      },
      "execution_count": 29,
      "outputs": []
    },
    {
      "cell_type": "code",
      "source": [
        "imagem = Image.open(imagem_teste).convert('L')\n",
        "imagem_np = np.array(imagem, 'uint8')\n",
        "print(imagem_np)"
      ],
      "metadata": {
        "colab": {
          "base_uri": "https://localhost:8080/"
        },
        "id": "YyybZb23U2HM",
        "outputId": "08c06e3b-a5ff-4d96-a2fd-dc36522a8541"
      },
      "execution_count": 30,
      "outputs": [
        {
          "output_type": "stream",
          "name": "stdout",
          "text": [
            "[[130 130 130 ... 255 255 255]\n",
            " [255 255 255 ... 255 255 255]\n",
            " [255 255 255 ... 255 255 255]\n",
            " ...\n",
            " [255 255 255 ... 255 255 255]\n",
            " [255 255 255 ... 255 255 255]\n",
            " [ 68  68  68 ...  68  68  68]]\n"
          ]
        }
      ]
    },
    {
      "cell_type": "code",
      "source": [
        "idprevisto, _ = reconhecedor.predict(imagem_np)\n",
        "idprevisto"
      ],
      "metadata": {
        "colab": {
          "base_uri": "https://localhost:8080/"
        },
        "id": "hf34mL3CVKGW",
        "outputId": "0fe377d7-7e96-4602-ea6b-bc64d25c9624"
      },
      "execution_count": 31,
      "outputs": [
        {
          "output_type": "execute_result",
          "data": {
            "text/plain": [
              "3"
            ]
          },
          "metadata": {},
          "execution_count": 31
        }
      ]
    },
    {
      "cell_type": "code",
      "source": [
        "id_correto  =  int(os.path.split(imagem_teste)[1].split('.')[0].replace('subject', ''))\n",
        "id_correto"
      ],
      "metadata": {
        "colab": {
          "base_uri": "https://localhost:8080/"
        },
        "id": "okFmCt3ZVbJU",
        "outputId": "cf30ff82-59f7-4fa1-e9e4-fe33ebcad63f"
      },
      "execution_count": 32,
      "outputs": [
        {
          "output_type": "execute_result",
          "data": {
            "text/plain": [
              "3"
            ]
          },
          "metadata": {},
          "execution_count": 32
        }
      ]
    },
    {
      "cell_type": "code",
      "source": [
        "from google.colab.patches import cv2_imshow\n"
      ],
      "metadata": {
        "id": "q6YpOGVWiG36"
      },
      "execution_count": 33,
      "outputs": []
    },
    {
      "cell_type": "code",
      "source": [
        "x = 30\n",
        "y = 100\n",
        "cv2.putText(imagem_np, 'P: ' + str(idprevisto), (x,y + 30), cv2.FONT_HERSHEY_COMPLEX_SMALL, 1, (0,255,0))\n",
        "cv2.putText(imagem_np, 'C: ' + str(id_correto), (x,y + 50), cv2.FONT_HERSHEY_COMPLEX_SMALL, 1, (0,255,0))\n",
        "cv2_imshow(imagem_np)\n"
      ],
      "metadata": {
        "colab": {
          "base_uri": "https://localhost:8080/",
          "height": 260
        },
        "id": "b3ME9LX3VpHh",
        "outputId": "566769fc-6772-46e1-9e34-81937a531d96"
      },
      "execution_count": 34,
      "outputs": [
        {
          "output_type": "display_data",
          "data": {
            "text/plain": [
              "<PIL.Image.Image image mode=L size=320x243>"
            ],
            "image/png": "[encoded data removed]"
          },
          "metadata": {}
        }
      ]
    }
  ]
}