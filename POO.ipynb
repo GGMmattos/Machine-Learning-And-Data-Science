{
  "nbformat": 4,
  "nbformat_minor": 0,
  "metadata": {
    "colab": {
      "provenance": [],
      "authorship_tag": "ABX9TyPr1QShYx4E5ag1qfAqQVZ+",
      "include_colab_link": true
    },
    "kernelspec": {
      "name": "python3",
      "display_name": "Python 3"
    },
    "language_info": {
      "name": "python"
    }
  },
  "cells": [
    {
      "cell_type": "markdown",
      "metadata": {
        "id": "view-in-github",
        "colab_type": "text"
      },
      "source": [
        "<a href=\"https://colab.research.google.com/github/GGMmattos/Machine-Learning-And-Data-Science/blob/main/POO.ipynb\" target=\"_parent\"><img src=\"https://colab.research.google.com/assets/colab-badge.svg\" alt=\"Open In Colab\"/></a>"
      ]
    },
    {
      "cell_type": "code",
      "execution_count": null,
      "metadata": {
        "id": "c-0lFA_zyRwv"
      },
      "outputs": [],
      "source": [
        "class Funcionarios:\n",
        "\n",
        "  def __init__(self, nome, salario, cargo):\n",
        "    self.nome = nome\n",
        "    self.salario = salario\n",
        "    self.cargo = cargo\n",
        "\n",
        "  def listFunc(self):\n",
        "    print(\"Funcionário \" + self.nome + \" Tem salário de R$\" + str(self.salario) + \" e seu cargo é \" + self.cargo)"
      ]
    },
    {
      "cell_type": "code",
      "source": [
        "Func1 = Funcionarios(\"Gabriel\", 1200, \"Estagiário\")"
      ],
      "metadata": {
        "id": "lLil6s0V0_PT"
      },
      "execution_count": null,
      "outputs": []
    },
    {
      "cell_type": "code",
      "source": [
        "Func1.listFunc()"
      ],
      "metadata": {
        "colab": {
          "base_uri": "https://localhost:8080/"
        },
        "id": "bi-LlpYM1KTS",
        "outputId": "aff90ab6-7f0f-4ffd-bb65-5cd9f05e94f1"
      },
      "execution_count": null,
      "outputs": [
        {
          "output_type": "stream",
          "name": "stdout",
          "text": [
            "Funcionário Gabriel Tem salário de R$1200 e seu cargo é Estagiário\n"
          ]
        }
      ]
    },
    {
      "cell_type": "code",
      "source": [
        "print(\"Utilizando atributos\")"
      ],
      "metadata": {
        "id": "f_6JoGRa1KK3",
        "colab": {
          "base_uri": "https://localhost:8080/"
        },
        "outputId": "1a2f97c4-f39b-44eb-bf32-e86736fa60a5"
      },
      "execution_count": null,
      "outputs": [
        {
          "output_type": "stream",
          "name": "stdout",
          "text": [
            "Utilizando atributos\n"
          ]
        }
      ]
    },
    {
      "cell_type": "code",
      "source": [
        "hasattr(Func1, \"nome\") # retorna True se tiver attributo nome"
      ],
      "metadata": {
        "colab": {
          "base_uri": "https://localhost:8080/"
        },
        "id": "D0DI_2ym2OuG",
        "outputId": "64eee1bb-e137-4c8e-bbe1-b1aa5e247109"
      },
      "execution_count": null,
      "outputs": [
        {
          "output_type": "execute_result",
          "data": {
            "text/plain": [
              "True"
            ]
          },
          "metadata": {},
          "execution_count": 5
        }
      ]
    },
    {
      "cell_type": "code",
      "source": [
        "hasattr(Func1, \"salario\") # retorna True se tiver attributo salario"
      ],
      "metadata": {
        "colab": {
          "base_uri": "https://localhost:8080/"
        },
        "id": "0nQzl6jL2fGy",
        "outputId": "4eceaeac-9c61-4415-c6f3-a963dad811e1"
      },
      "execution_count": null,
      "outputs": [
        {
          "output_type": "execute_result",
          "data": {
            "text/plain": [
              "True"
            ]
          },
          "metadata": {},
          "execution_count": 6
        }
      ]
    },
    {
      "cell_type": "code",
      "source": [
        "setattr(Func1, \"salario\", 10000) # modifica o valor do atributo salário"
      ],
      "metadata": {
        "id": "pUmKHPRw2mfw"
      },
      "execution_count": null,
      "outputs": []
    },
    {
      "cell_type": "code",
      "source": [
        "hasattr(Func1, \"salario\")"
      ],
      "metadata": {
        "colab": {
          "base_uri": "https://localhost:8080/"
        },
        "id": "GIvZq3x_22Zv",
        "outputId": "eff0122d-8db3-4eaf-ddb8-a1a402ec4e8c"
      },
      "execution_count": null,
      "outputs": [
        {
          "output_type": "execute_result",
          "data": {
            "text/plain": [
              "True"
            ]
          },
          "metadata": {},
          "execution_count": 8
        }
      ]
    },
    {
      "cell_type": "code",
      "source": [
        "getattr(Func1, \"salario\") #retorna o valor do atributo salário"
      ],
      "metadata": {
        "colab": {
          "base_uri": "https://localhost:8080/"
        },
        "id": "MJ9K2bN9264V",
        "outputId": "7dd997d7-418d-47e2-81f3-aa394389f6fd"
      },
      "execution_count": null,
      "outputs": [
        {
          "output_type": "execute_result",
          "data": {
            "text/plain": [
              "10000"
            ]
          },
          "metadata": {},
          "execution_count": 9
        }
      ]
    },
    {
      "cell_type": "code",
      "source": [
        "delattr(Func1, \"salario\") #Deleta o valor do atributo salário"
      ],
      "metadata": {
        "id": "SVUqFKL33Ez1"
      },
      "execution_count": null,
      "outputs": []
    },
    {
      "cell_type": "code",
      "source": [
        "hasattr(Func1, \"salario\")"
      ],
      "metadata": {
        "colab": {
          "base_uri": "https://localhost:8080/"
        },
        "id": "h13mtNM73JOa",
        "outputId": "e596558d-6940-497a-b7a1-ae70564e4660"
      },
      "execution_count": null,
      "outputs": [
        {
          "output_type": "execute_result",
          "data": {
            "text/plain": [
              "False"
            ]
          },
          "metadata": {},
          "execution_count": 11
        }
      ]
    },
    {
      "cell_type": "markdown",
      "source": [
        "METODOS\n"
      ],
      "metadata": {
        "id": "pwcUaTCqV9L-"
      }
    },
    {
      "cell_type": "code",
      "source": [
        "class Circulo():\n",
        "\n",
        "  pi = 3.14\n",
        "\n",
        "  def __init__(self, raio=5) -> None:\n",
        "    self.raio = raio\n",
        "\n",
        "  def area(self):\n",
        "    return (self.raio * self.raio) * Circulo.pi\n",
        "\n",
        "  def setRaio(self, novo_raio):\n",
        "    self.raio = novo_raio\n",
        "\n",
        "  def getRaio(self):\n",
        "    return self.raio"
      ],
      "metadata": {
        "id": "DUVTye9dV_e1"
      },
      "execution_count": null,
      "outputs": []
    },
    {
      "cell_type": "code",
      "source": [
        "circulo = Circulo()"
      ],
      "metadata": {
        "id": "nqJKOH6KZbej"
      },
      "execution_count": null,
      "outputs": []
    },
    {
      "cell_type": "code",
      "source": [
        "circulo.getRaio()"
      ],
      "metadata": {
        "colab": {
          "base_uri": "https://localhost:8080/"
        },
        "id": "_TjPJZu9Zi2s",
        "outputId": "b8282be2-bab9-43f0-f9e6-66fc2be03704"
      },
      "execution_count": null,
      "outputs": [
        {
          "output_type": "execute_result",
          "data": {
            "text/plain": [
              "5"
            ]
          },
          "metadata": {},
          "execution_count": 15
        }
      ]
    },
    {
      "cell_type": "code",
      "source": [
        "circulo.setRaio(10)"
      ],
      "metadata": {
        "id": "uW_w0NwdZp_r"
      },
      "execution_count": null,
      "outputs": []
    },
    {
      "cell_type": "code",
      "source": [
        "circulo.getRaio()"
      ],
      "metadata": {
        "colab": {
          "base_uri": "https://localhost:8080/"
        },
        "id": "kwyaUuZBZw8t",
        "outputId": "8344e84f-41bb-49f1-89b8-6c17eabb1ed9"
      },
      "execution_count": null,
      "outputs": [
        {
          "output_type": "execute_result",
          "data": {
            "text/plain": [
              "10"
            ]
          },
          "metadata": {},
          "execution_count": 17
        }
      ]
    },
    {
      "cell_type": "code",
      "source": [
        "circulo.area()"
      ],
      "metadata": {
        "colab": {
          "base_uri": "https://localhost:8080/"
        },
        "id": "z37gGCqEZyP8",
        "outputId": "dbae4588-0832-4588-e451-b3657394d12a"
      },
      "execution_count": null,
      "outputs": [
        {
          "output_type": "execute_result",
          "data": {
            "text/plain": [
              "314.0"
            ]
          },
          "metadata": {},
          "execution_count": 18
        }
      ]
    },
    {
      "cell_type": "markdown",
      "source": [
        "Herança\n"
      ],
      "metadata": {
        "id": "kzGFAfy2aCNM"
      }
    },
    {
      "cell_type": "code",
      "source": [
        "class Animal:\n",
        "\n",
        "  def __init__(self):\n",
        "    print(\"Animal Criado\")\n",
        "\n",
        "  def imprimir(self):\n",
        "    print(\"Este é um animal\")\n",
        "\n",
        "  def comer(self):\n",
        "    print(\"Hora de comer\")\n",
        "\n",
        "  def emitir_som(self):\n",
        "    pass"
      ],
      "metadata": {
        "id": "fqAaQnpuFgzf"
      },
      "execution_count": null,
      "outputs": []
    },
    {
      "cell_type": "code",
      "source": [],
      "metadata": {
        "id": "vNPi2Oh0GMLO"
      },
      "execution_count": null,
      "outputs": []
    },
    {
      "cell_type": "code",
      "source": [
        "#Criando a classe Cachorro - Sub-classe\n",
        "\n",
        "class Cachorro(Animal):\n",
        "\n",
        "  def __init__(self):\n",
        "    Animal.__init(self)\n",
        "    print(\"Objeto Cachorro criado\")\n",
        "\n",
        "  def emitir_som(self):\n",
        "    print(\"Au Au\")"
      ],
      "metadata": {
        "id": "D2iVWUX8GGTI"
      },
      "execution_count": null,
      "outputs": []
    },
    {
      "cell_type": "code",
      "source": [
        "#Criando a classe gatgo - Sub-classe\n",
        "\n",
        "class Cachorro(Animal):\n",
        "\n",
        "  def __init__(self):\n",
        "    Animal.__init(self)\n",
        "    print(\"Objeto gato criado\")\n",
        "\n",
        "  def emitir_som(self):\n",
        "    print(\"Miau Miau\")"
      ],
      "metadata": {
        "id": "_uWG0DDkHypj"
      },
      "execution_count": null,
      "outputs": []
    },
    {
      "cell_type": "markdown",
      "source": [
        "Polimorfismo"
      ],
      "metadata": {
        "id": "YIcf4D4bIIId"
      }
    },
    {
      "cell_type": "code",
      "source": [
        "class Veiculo:\n",
        "\n",
        "  def __init__(self, marca, modelo):\n",
        "    self.marca = marca\n",
        "    self.modelo = modelo\n",
        "\n",
        "  def acelerar(self):\n",
        "    pass\n",
        "\n",
        "  def frear(self):\n",
        "    pass"
      ],
      "metadata": {
        "id": "xAyLJis9KpLy"
      },
      "execution_count": null,
      "outputs": []
    },
    {
      "cell_type": "code",
      "source": [
        "class Carro(Veiculo):\n",
        "\n",
        "  def acelerar(self):\n",
        "    print(\"O carro está acelerando\")\n",
        "\n",
        "  def frear(self):\n",
        "    print(\"O carro está freando\")"
      ],
      "metadata": {
        "id": "YsQjaNFlLFjt"
      },
      "execution_count": null,
      "outputs": []
    },
    {
      "cell_type": "code",
      "source": [
        "class Moto(Veiculo):\n",
        "\n",
        "  def acelerar(self):\n",
        "    print(\"A moto está acelerando\")\n",
        "\n",
        "  def frear(self):\n",
        "    print(\"A moto está freando\")"
      ],
      "metadata": {
        "id": "X3COm30WLhRW"
      },
      "execution_count": null,
      "outputs": []
    },
    {
      "cell_type": "code",
      "source": [
        "class Aviao(Veiculo):\n",
        "\n",
        "  def acelerar(self):\n",
        "    print(\"O avião está acelerando\")\n",
        "\n",
        "  def frear(self):\n",
        "    print(\"O avião está freando\")\n",
        "\n",
        "  def decolar(self):\n",
        "    print(\"O avião está decolando\")"
      ],
      "metadata": {
        "id": "B0FNMQAgLmIA"
      },
      "execution_count": null,
      "outputs": []
    },
    {
      "cell_type": "code",
      "source": [
        "lista_veiculos = [Carro(\"Camaro\", \"911 Turbo\"), Moto(\"Honda\", \"CB 100R\"), Aviao(\"Bonf\", \"757\")]"
      ],
      "metadata": {
        "id": "BvrR0oLnL0-O"
      },
      "execution_count": null,
      "outputs": []
    },
    {
      "cell_type": "code",
      "source": [
        "for item in lista_veiculos:\n",
        "\n",
        "  item.acelerar()\n",
        "\n",
        "  item.frear()\n",
        "\n",
        "  if isinstance(item, Aviao):\n",
        "    item.decolar()\n",
        "\n",
        "  print(\"---\")"
      ],
      "metadata": {
        "colab": {
          "base_uri": "https://localhost:8080/"
        },
        "id": "LA1vNsN1MvPR",
        "outputId": "cb8890d2-1fb6-4b8b-86a0-7e0a1f688b19"
      },
      "execution_count": null,
      "outputs": [
        {
          "output_type": "stream",
          "name": "stdout",
          "text": [
            "O carro está acelerando\n",
            "O carro está freando\n",
            "---\n",
            "A moto está acelerando\n",
            "A moto está freando\n",
            "---\n",
            "O avião está acelerando\n",
            "O avião está freando\n",
            "O avião está decolando\n",
            "---\n"
          ]
        }
      ]
    }
  ]
}