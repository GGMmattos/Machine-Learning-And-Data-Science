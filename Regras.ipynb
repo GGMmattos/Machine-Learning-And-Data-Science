{
  "nbformat": 4,
  "nbformat_minor": 0,
  "metadata": {
    "colab": {
      "name": "Regras.ipynb",
      "provenance": [],
      "collapsed_sections": [],
      "authorship_tag": "ABX9TyMpylO1g/aAlkjI9opDiy2r",
      "include_colab_link": true
    },
    "kernelspec": {
      "name": "python3",
      "display_name": "Python 3"
    },
    "language_info": {
      "name": "python"
    }
  },
  "cells": [
    {
      "cell_type": "markdown",
      "metadata": {
        "id": "view-in-github",
        "colab_type": "text"
      },
      "source": [
        "<a href=\"https://colab.research.google.com/github/GGMmattos/Machine-Learning-And-Data-Science/blob/main/Regras.ipynb\" target=\"_parent\"><img src=\"https://colab.research.google.com/assets/colab-badge.svg\" alt=\"Open In Colab\"/></a>"
      ]
    },
    {
      "cell_type": "markdown",
      "source": [
        "Instalação da biblioteca para interface gráfica\n",
        "\n"
      ],
      "metadata": {
        "id": "hx7aS-nDp_fF"
      }
    },
    {
      "cell_type": "code",
      "execution_count": null,
      "metadata": {
        "id": "A2gK8PmdpaST"
      },
      "outputs": [],
      "source": [
        "!pip install Orange3"
      ]
    },
    {
      "cell_type": "code",
      "source": [
        "import Orange"
      ],
      "metadata": {
        "id": "A8AaN6Q9p8ba"
      },
      "execution_count": 5,
      "outputs": []
    },
    {
      "cell_type": "markdown",
      "source": [
        "# Base risco de crédito"
      ],
      "metadata": {
        "id": "r6pxK3jtqJRJ"
      }
    },
    {
      "cell_type": "code",
      "source": [
        "base_risco_credito = Orange.data.Table(\"risco_credito_regras.csv\")"
      ],
      "metadata": {
        "id": "2M1xrLTCqNV5",
        "colab": {
          "base_uri": "https://localhost:8080/"
        },
        "outputId": "19be6ef9-bf42-42d9-e800-f531f681fe15"
      },
      "execution_count": 9,
      "outputs": [
        {
          "output_type": "stream",
          "name": "stderr",
          "text": [
            "/usr/local/lib/python3.7/dist-packages/psycopg2/__init__.py:144: UserWarning: The psycopg2 wheel package will be renamed from release 2.8; in order to keep installing from binary please use \"pip install psycopg2-binary\" instead. For details see: <http://initd.org/psycopg/docs/install.html#binary-install-from-pypi>.\n",
            "  \"\"\")\n"
          ]
        }
      ]
    },
    {
      "cell_type": "markdown",
      "source": [
        "OBS: Quando Trabalhamos com o Pandas temos o formato de DataFrame, ja com o Orange temos o formato do tipo table."
      ],
      "metadata": {
        "id": "vyoYSuN7qgq6"
      }
    },
    {
      "cell_type": "markdown",
      "source": [
        "No arquivo(csv em questão) o \"#\" é utilizado para diferenciar o que é previsor e o que é classe, como podemos ver a baixo, a classe está apos o pipe"
      ],
      "metadata": {
        "id": "1aJjwcaosPCs"
      }
    },
    {
      "cell_type": "code",
      "source": [
        "base_risco_credito"
      ],
      "metadata": {
        "colab": {
          "base_uri": "https://localhost:8080/"
        },
        "id": "P8qblfg6qyGH",
        "outputId": "58cd3350-c0dc-4081-ecbf-3fdf867abb4e"
      },
      "execution_count": 10,
      "outputs": [
        {
          "output_type": "execute_result",
          "data": {
            "text/plain": [
              "[[ruim, alta, nenhuma, 0_15 | alto],\n",
              " [desconhecida, alta, nenhuma, 15_35 | alto],\n",
              " [desconhecida, baixa, nenhuma, 15_35 | moderado],\n",
              " [desconhecida, baixa, nenhuma, acima_35 | alto],\n",
              " [desconhecida, baixa, nenhuma, acima_35 | baixo],\n",
              " ...\n",
              "]"
            ]
          },
          "metadata": {},
          "execution_count": 10
        }
      ]
    },
    {
      "cell_type": "code",
      "source": [
        "base_risco_credito.domain"
      ],
      "metadata": {
        "colab": {
          "base_uri": "https://localhost:8080/"
        },
        "id": "E1fL7vQhsqa6",
        "outputId": "f0535470-e63c-47a4-f442-7ef7cdf0e343"
      },
      "execution_count": 11,
      "outputs": [
        {
          "output_type": "execute_result",
          "data": {
            "text/plain": [
              "[historia, divida, garantias, renda | risco]"
            ]
          },
          "metadata": {},
          "execution_count": 11
        }
      ]
    },
    {
      "cell_type": "markdown",
      "source": [
        "Logo a cima, o objetivo que é o risco, vulgo classe, está separado."
      ],
      "metadata": {
        "id": "7K765nZ6sv3T"
      }
    },
    {
      "cell_type": "markdown",
      "source": [
        "Criação do algoritmo"
      ],
      "metadata": {
        "id": "VFmROKdhtMNr"
      }
    },
    {
      "cell_type": "code",
      "source": [
        " cn2 = Orange.classification.rules.CN2Learner()\n",
        " regras_risco_credito = cn2(base_risco_credito) #criação das regras/treinamento do algoritmo "
      ],
      "metadata": {
        "id": "uRl8RTRqs2Wk"
      },
      "execution_count": 12,
      "outputs": []
    },
    {
      "cell_type": "markdown",
      "source": [
        "Faremos a visualização das regras criadas"
      ],
      "metadata": {
        "id": "7OIJUfEztuh6"
      }
    },
    {
      "cell_type": "code",
      "source": [
        "for regras in regras_risco_credito.rule_list:\n",
        "  print(regras)"
      ],
      "metadata": {
        "colab": {
          "base_uri": "https://localhost:8080/"
        },
        "id": "mGZ3irXgtyTK",
        "outputId": "c73f6f7a-1495-465a-8278-203e42bed0e3"
      },
      "execution_count": 13,
      "outputs": [
        {
          "output_type": "stream",
          "name": "stdout",
          "text": [
            "IF renda==0_15 THEN risco=alto \n",
            "IF historia==boa AND divida!=alta THEN risco=baixo \n",
            "IF historia==boa AND garantias!=nenhuma THEN risco=baixo \n",
            "IF historia==boa AND renda!=15_35 THEN risco=baixo \n",
            "IF historia==boa THEN risco=moderado \n",
            "IF divida==alta THEN risco=alto \n",
            "IF historia!=desconhecida THEN risco=moderado \n",
            "IF garantias==adequada THEN risco=baixo \n",
            "IF renda==15_35 THEN risco=moderado \n",
            "IF historia==desconhecida THEN risco=alto \n",
            "IF TRUE THEN risco=alto \n"
          ]
        }
      ]
    },
    {
      "cell_type": "markdown",
      "source": [
        "Previsões"
      ],
      "metadata": {
        "id": "u0hFIk6iuncN"
      }
    },
    {
      "cell_type": "markdown",
      "source": [
        "Não é necessário fazer a conversão de atributo categorico para atributo numérico, neste estudo de caso. Para isso caso precisasse utilizariamos o LableEncoder"
      ],
      "metadata": {
        "id": "lVS23tmFu8ld"
      }
    },
    {
      "cell_type": "code",
      "source": [
        "# historia boa, divida alta, garantias nenhuma, renda > 35\n",
        "# história ruim, divida alta, garantias adequada, renda <  15\n",
        "previsoes = regras_risco_credito\n",
        "previsoes = regras_risco_credito([['boa', 'alta', 'nenhuma', 'acima_35'], ['ruim', 'alta', 'adequada', '0_15']])\n",
        "previsoes"
      ],
      "metadata": {
        "colab": {
          "base_uri": "https://localhost:8080/"
        },
        "id": "b-iljgSCuRC2",
        "outputId": "e44e990f-3128-4301-9bcc-086458281c72"
      },
      "execution_count": 14,
      "outputs": [
        {
          "output_type": "execute_result",
          "data": {
            "text/plain": [
              "array([1, 0])"
            ]
          },
          "metadata": {},
          "execution_count": 14
        }
      ]
    },
    {
      "cell_type": "markdown",
      "source": [
        "Mas a final, oque significa estes resultado???"
      ],
      "metadata": {
        "id": "gxBxrw2Zwy1t"
      }
    },
    {
      "cell_type": "code",
      "source": [
        "base_risco_credito.domain.class_var.values"
      ],
      "metadata": {
        "colab": {
          "base_uri": "https://localhost:8080/"
        },
        "id": "oDrUUkpow2R0",
        "outputId": "08fc4f76-4e18-42d4-a2a4-7dceef8e5c6f"
      },
      "execution_count": 15,
      "outputs": [
        {
          "output_type": "execute_result",
          "data": {
            "text/plain": [
              "('alto', 'baixo', 'moderado')"
            ]
          },
          "metadata": {},
          "execution_count": 15
        }
      ]
    },
    {
      "cell_type": "markdown",
      "source": [
        "1 = baixo e 0 = alto"
      ],
      "metadata": {
        "id": "0c2l9G9Aw-Bq"
      }
    },
    {
      "cell_type": "code",
      "source": [
        "for i in previsoes: #laço que percorre as previsões\n",
        "  #print(i)\n",
        "  print(base_risco_credito.domain.class_var.values[i]) #facilita para visualizar a previsão"
      ],
      "metadata": {
        "colab": {
          "base_uri": "https://localhost:8080/"
        },
        "id": "eJ08Sq-OxCiT",
        "outputId": "d06a6c5d-9ab7-41da-8b38-d1d06bdb1839"
      },
      "execution_count": 16,
      "outputs": [
        {
          "output_type": "stream",
          "name": "stdout",
          "text": [
            "baixo\n",
            "alto\n"
          ]
        }
      ]
    },
    {
      "cell_type": "markdown",
      "source": [
        "# Base credit data"
      ],
      "metadata": {
        "id": "ki-ZBMeqruq_"
      }
    },
    {
      "cell_type": "code",
      "source": [
        "base_credit = Orange.data.Table('credit_data_regras.csv')\n",
        "base_credit.domain"
      ],
      "metadata": {
        "colab": {
          "base_uri": "https://localhost:8080/"
        },
        "id": "Tlh8zQgKr2az",
        "outputId": "742fcccb-b8a6-4ad2-cb60-292c65632678"
      },
      "execution_count": 19,
      "outputs": [
        {
          "output_type": "execute_result",
          "data": {
            "text/plain": [
              "[income, age, loan | default]"
            ]
          },
          "metadata": {},
          "execution_count": 19
        }
      ]
    },
    {
      "cell_type": "code",
      "source": [
        "base_dividida = Orange.evaluation.testing.sample(base_credit, n = 0.25) #assim usamos 25% para testar e os outros 75% para treinamento"
      ],
      "metadata": {
        "id": "wYq2zuMIs6Tb"
      },
      "execution_count": 22,
      "outputs": []
    },
    {
      "cell_type": "code",
      "source": [
        "base_dividida"
      ],
      "metadata": {
        "colab": {
          "base_uri": "https://localhost:8080/"
        },
        "id": "5KtRH_GKtf0L",
        "outputId": "1df8d587-41dc-453e-b603-89872cd39177"
      },
      "execution_count": 23,
      "outputs": [
        {
          "output_type": "execute_result",
          "data": {
            "text/plain": [
              "([[52730.1, 50.2378, 5706.33 | 0],\n",
              "  [25817.5, 21.6305, 3682.86 | 1],\n",
              "  [66628.3, 52.3839, 5992.89 | 0],\n",
              "  [42465.7, 58.0166, 7314.98 | 0],\n",
              "  [54418.5, 55.2221, 5630.74 | 0],\n",
              "  ...\n",
              " ], [[37123.1, 19.9467, 5659.51 | 1],\n",
              "  [58842.9, 54.5109, 10871.2 | 0],\n",
              "  [40334.6, 45.8865, 6808.87 | 0],\n",
              "  [56253, 57.2783, 7327.07 | 0],\n",
              "  [53289.1, 32.3002, 7395.51 | 1],\n",
              "  ...\n",
              " ])"
            ]
          },
          "metadata": {},
          "execution_count": 23
        }
      ]
    },
    {
      "cell_type": "code",
      "source": [
        "base_dividida[0]"
      ],
      "metadata": {
        "colab": {
          "base_uri": "https://localhost:8080/"
        },
        "id": "fbHS8pmYtbEc",
        "outputId": "817e33a3-ad8e-40cf-d4c5-907b1565bc43"
      },
      "execution_count": 24,
      "outputs": [
        {
          "output_type": "execute_result",
          "data": {
            "text/plain": [
              "[[52730.1, 50.2378, 5706.33 | 0],\n",
              " [25817.5, 21.6305, 3682.86 | 1],\n",
              " [66628.3, 52.3839, 5992.89 | 0],\n",
              " [42465.7, 58.0166, 7314.98 | 0],\n",
              " [54418.5, 55.2221, 5630.74 | 0],\n",
              " ...\n",
              "]"
            ]
          },
          "metadata": {},
          "execution_count": 24
        }
      ]
    },
    {
      "cell_type": "code",
      "source": [
        "base_dividida[1]\n"
      ],
      "metadata": {
        "colab": {
          "base_uri": "https://localhost:8080/"
        },
        "id": "wHo7jOQmtlkx",
        "outputId": "3f90d4fb-1fe6-4c29-8698-3b8bf8449125"
      },
      "execution_count": 25,
      "outputs": [
        {
          "output_type": "execute_result",
          "data": {
            "text/plain": [
              "[[37123.1, 19.9467, 5659.51 | 1],\n",
              " [58842.9, 54.5109, 10871.2 | 0],\n",
              " [40334.6, 45.8865, 6808.87 | 0],\n",
              " [56253, 57.2783, 7327.07 | 0],\n",
              " [53289.1, 32.3002, 7395.51 | 1],\n",
              " ...\n",
              "]"
            ]
          },
          "metadata": {},
          "execution_count": 25
        }
      ]
    },
    {
      "cell_type": "markdown",
      "source": [
        "Praparação das bases"
      ],
      "metadata": {
        "id": "sJ8mYSSUtlQu"
      }
    },
    {
      "cell_type": "code",
      "source": [
        "base_treinamento =  base_dividida[1]\n",
        "base_teste = base_dividida[0]"
      ],
      "metadata": {
        "id": "ECuzIs7Yt1zd"
      },
      "execution_count": 26,
      "outputs": []
    },
    {
      "cell_type": "code",
      "source": [
        "len(base_teste), len(base_treinamento)"
      ],
      "metadata": {
        "colab": {
          "base_uri": "https://localhost:8080/"
        },
        "id": "juHWDg-JuBF6",
        "outputId": "7b2c5ba0-c95a-48f5-cfb3-14954b19dc74"
      },
      "execution_count": 27,
      "outputs": [
        {
          "output_type": "execute_result",
          "data": {
            "text/plain": [
              "(500, 1500)"
            ]
          },
          "metadata": {},
          "execution_count": 27
        }
      ]
    },
    {
      "cell_type": "code",
      "source": [
        "cn2 = Orange.classification.rules.CN2Learner()\n",
        "regras_credit = cn2(base_treinamento)\n"
      ],
      "metadata": {
        "id": "3DYQl2cKugUE"
      },
      "execution_count": 31,
      "outputs": []
    },
    {
      "cell_type": "code",
      "source": [
        "for regras in regras_credit.rule_list:\n",
        "  print(regras)"
      ],
      "metadata": {
        "colab": {
          "base_uri": "https://localhost:8080/"
        },
        "id": "LB8FKblQu9Sj",
        "outputId": "cce553b0-73a9-4743-8e98-ec574932c903"
      },
      "execution_count": 32,
      "outputs": [
        {
          "output_type": "stream",
          "name": "stdout",
          "text": [
            "IF age>=34.9257164876908 THEN default=0 \n",
            "IF loan<=2495.13299137587 AND income>=20145.9885970689 THEN default=0 \n",
            "IF loan<=3675.83341454456 AND income>=29724.4768752716 THEN default=0 \n",
            "IF income<=44299.3717431091 AND loan>=5193.83819663771 THEN default=1 \n",
            "IF loan>=7708.31562497011 AND loan>=9698.582169129 THEN default=1 \n",
            "IF loan>=7708.31562497011 AND loan>=9595.28628892989 THEN default=0 \n",
            "IF loan>=7708.31562497011 AND age>=21.4227129220963 THEN default=1 \n",
            "IF age>=34.915516287554105 THEN default=1 \n",
            "IF income>=54748.9123116247 AND income>=67346.6624622233 THEN default=0 \n",
            "IF loan>=7708.31562497011 THEN default=1 \n",
            "IF income>=57787.565658800304 THEN default=0 \n",
            "IF loan>=6241.27050834808 THEN default=1 \n",
            "IF income>=38129.754869733 AND income>=50501.7266888171 THEN default=0 \n",
            "IF loan>=5862.83302915672 THEN default=1 \n",
            "IF income>=38129.754869733 AND income>=45971.133494749694 THEN default=0 \n",
            "IF income>=38129.754869733 AND age>=27.075747632421603 THEN default=0 \n",
            "IF loan>=2971.00330971188 AND age>=28.476944413036104 THEN default=1 \n",
            "IF income<=38129.754869733 AND loan>=4360.05300945404 THEN default=1 \n",
            "IF income<=22089.8374845274 AND age>=21.3656869572587 THEN default=1 \n",
            "IF age>=28.354908418376002 THEN default=0 \n",
            "IF loan<=3105.4430213977303 AND loan>=3105.4430213977303 THEN default=1 \n",
            "IF age>=26.1922096619383 THEN default=1 \n",
            "IF age>=25.669949863571702 THEN default=0 \n",
            "IF loan<=3343.81635769923 AND age>=21.054199264384803 THEN default=0 \n",
            "IF income<=36008.3809983917 AND age>=21.8542913463898 THEN default=1 \n",
            "IF age>=24.6631496008486 THEN default=1 \n",
            "IF age>=23.125877250917302 THEN default=0 \n",
            "IF income>=36008.3809983917 AND age>=20.826679904013897 THEN default=1 \n",
            "IF income>=36008.3809983917 THEN default=0 \n",
            "IF income<=25833.7172260508 THEN default=1 \n",
            "IF income<=26218.4948474169 THEN default=1 \n",
            "IF TRUE THEN default=0 \n"
          ]
        }
      ]
    },
    {
      "cell_type": "code",
      "source": [
        "previsoes = Orange.evaluation.testing.TestOnTestData(base_treinamento, base_teste, [lambda testData: regras_credit])"
      ],
      "metadata": {
        "id": "KO8DqpuavYfV"
      },
      "execution_count": 34,
      "outputs": []
    },
    {
      "cell_type": "code",
      "source": [
        "previsoes"
      ],
      "metadata": {
        "colab": {
          "base_uri": "https://localhost:8080/"
        },
        "id": "HHMtSzwWwPuQ",
        "outputId": "009c11eb-522e-4528-f26e-1cf77ade46e7"
      },
      "execution_count": 35,
      "outputs": [
        {
          "output_type": "execute_result",
          "data": {
            "text/plain": [
              "<Orange.evaluation.testing.Results at 0x7f04897fab10>"
            ]
          },
          "metadata": {},
          "execution_count": 35
        }
      ]
    },
    {
      "cell_type": "markdown",
      "source": [
        "Acurácia, precisão dos acertos"
      ],
      "metadata": {
        "id": "oHmhQQfDxMQd"
      }
    },
    {
      "cell_type": "code",
      "source": [
        "Orange.evaluation.CA(previsoes)"
      ],
      "metadata": {
        "colab": {
          "base_uri": "https://localhost:8080/"
        },
        "id": "ev-Xv7sWwSpZ",
        "outputId": "bc9ff239-8d13-49ac-a506-12e4b0d97b77"
      },
      "execution_count": 37,
      "outputs": [
        {
          "output_type": "execute_result",
          "data": {
            "text/plain": [
              "array([0.982])"
            ]
          },
          "metadata": {},
          "execution_count": 37
        }
      ]
    },
    {
      "cell_type": "markdown",
      "source": [
        "# 98%, um ótimo resultado"
      ],
      "metadata": {
        "id": "NEuYdy5QxRNW"
      }
    }
  ]
}