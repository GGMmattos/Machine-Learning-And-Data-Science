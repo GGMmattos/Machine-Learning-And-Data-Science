{
  "nbformat": 4,
  "nbformat_minor": 0,
  "metadata": {
    "colab": {
      "name": "Regras.ipynb",
      "provenance": [],
      "collapsed_sections": [],
      "authorship_tag": "ABX9TyO1nR2F0q+q+Tbg8KQ34h3N",
      "include_colab_link": true
    },
    "kernelspec": {
      "name": "python3",
      "display_name": "Python 3"
    },
    "language_info": {
      "name": "python"
    }
  },
  "cells": [
    {
      "cell_type": "markdown",
      "metadata": {
        "id": "view-in-github",
        "colab_type": "text"
      },
      "source": [
        "<a href=\"https://colab.research.google.com/github/GGMmattos/Machine-Learning-And-Data-Science/blob/main/Regras.ipynb\" target=\"_parent\"><img src=\"https://colab.research.google.com/assets/colab-badge.svg\" alt=\"Open In Colab\"/></a>"
      ]
    },
    {
      "cell_type": "markdown",
      "source": [
        "Instalação da biblioteca para interface gráfica\n",
        "\n"
      ],
      "metadata": {
        "id": "hx7aS-nDp_fF"
      }
    },
    {
      "cell_type": "code",
      "execution_count": null,
      "metadata": {
        "id": "A2gK8PmdpaST"
      },
      "outputs": [],
      "source": [
        "!pip install Orange3"
      ]
    },
    {
      "cell_type": "code",
      "source": [
        "import Orange"
      ],
      "metadata": {
        "id": "A8AaN6Q9p8ba"
      },
      "execution_count": 2,
      "outputs": []
    },
    {
      "cell_type": "markdown",
      "source": [
        "# Base risco de crédito"
      ],
      "metadata": {
        "id": "r6pxK3jtqJRJ"
      }
    },
    {
      "cell_type": "code",
      "source": [
        "base_risco_credito = Orange.data.Table(\"risco_credito_regras.csv\")"
      ],
      "metadata": {
        "id": "2M1xrLTCqNV5"
      },
      "execution_count": 4,
      "outputs": []
    },
    {
      "cell_type": "markdown",
      "source": [
        "OBS: Quando Trabalhamos com o Pandas temos o formato de DataFrame, ja com o Orange temos o formato do tipo table."
      ],
      "metadata": {
        "id": "vyoYSuN7qgq6"
      }
    },
    {
      "cell_type": "markdown",
      "source": [
        "No arquivo(csv em questão) o \"#\" é utilizado para diferenciar o que é previsor e o que é classe, como podemos ver a baixo, a classe está apos o pipe"
      ],
      "metadata": {
        "id": "1aJjwcaosPCs"
      }
    },
    {
      "cell_type": "code",
      "source": [
        "base_risco_credito"
      ],
      "metadata": {
        "colab": {
          "base_uri": "https://localhost:8080/"
        },
        "id": "P8qblfg6qyGH",
        "outputId": "07121eb7-d0d7-49ee-d841-3fe1de212311"
      },
      "execution_count": 5,
      "outputs": [
        {
          "output_type": "execute_result",
          "data": {
            "text/plain": [
              "[[ruim, alta, nenhuma, 0_15 | alto],\n",
              " [desconhecida, alta, nenhuma, 15_35 | alto],\n",
              " [desconhecida, baixa, nenhuma, 15_35 | moderado],\n",
              " [desconhecida, baixa, nenhuma, acima_35 | alto],\n",
              " [desconhecida, baixa, nenhuma, acima_35 | baixo],\n",
              " ...\n",
              "]"
            ]
          },
          "metadata": {},
          "execution_count": 5
        }
      ]
    },
    {
      "cell_type": "code",
      "source": [
        "base_risco_credito.domain"
      ],
      "metadata": {
        "colab": {
          "base_uri": "https://localhost:8080/"
        },
        "id": "E1fL7vQhsqa6",
        "outputId": "730cfea3-45c5-459d-81ce-eaad9cbb710f"
      },
      "execution_count": 6,
      "outputs": [
        {
          "output_type": "execute_result",
          "data": {
            "text/plain": [
              "[historia, divida, garantias, renda | risco]"
            ]
          },
          "metadata": {},
          "execution_count": 6
        }
      ]
    },
    {
      "cell_type": "markdown",
      "source": [
        "Logo a cima, o objetivo que é o risco, vulgo classe, está separado."
      ],
      "metadata": {
        "id": "7K765nZ6sv3T"
      }
    },
    {
      "cell_type": "markdown",
      "source": [
        "Criação do algoritmo"
      ],
      "metadata": {
        "id": "VFmROKdhtMNr"
      }
    },
    {
      "cell_type": "code",
      "source": [
        " cn2 = Orange.classification.rules.CN2Learner()\n",
        " regras_risco_credito = cn2(base_risco_credito) #criação das regras/treinamento do algoritmo "
      ],
      "metadata": {
        "id": "uRl8RTRqs2Wk"
      },
      "execution_count": 12,
      "outputs": []
    },
    {
      "cell_type": "markdown",
      "source": [
        "Faremos a visualização das regras criadas"
      ],
      "metadata": {
        "id": "7OIJUfEztuh6"
      }
    },
    {
      "cell_type": "code",
      "source": [
        "for regras in regras_risco_credito.rule_list:\n",
        "  print(regras)"
      ],
      "metadata": {
        "colab": {
          "base_uri": "https://localhost:8080/"
        },
        "id": "mGZ3irXgtyTK",
        "outputId": "9165de0c-ef1f-42f5-b0db-50d4893cc682"
      },
      "execution_count": 13,
      "outputs": [
        {
          "output_type": "stream",
          "name": "stdout",
          "text": [
            "IF renda==0_15 THEN risco=alto \n",
            "IF historia==boa AND divida!=alta THEN risco=baixo \n",
            "IF historia==boa AND garantias!=nenhuma THEN risco=baixo \n",
            "IF historia==boa AND renda!=15_35 THEN risco=baixo \n",
            "IF historia==boa THEN risco=moderado \n",
            "IF divida==alta THEN risco=alto \n",
            "IF historia!=desconhecida THEN risco=moderado \n",
            "IF garantias==adequada THEN risco=baixo \n",
            "IF renda==15_35 THEN risco=moderado \n",
            "IF historia==desconhecida THEN risco=alto \n",
            "IF TRUE THEN risco=alto \n"
          ]
        }
      ]
    },
    {
      "cell_type": "markdown",
      "source": [
        "Previsões"
      ],
      "metadata": {
        "id": "u0hFIk6iuncN"
      }
    },
    {
      "cell_type": "markdown",
      "source": [
        "Não é necessário fazer a conversão de atributo categorico para atributo numérico, neste estudo de caso. Para isso caso precisasse utilizariamos o LableEncoder"
      ],
      "metadata": {
        "id": "lVS23tmFu8ld"
      }
    },
    {
      "cell_type": "code",
      "source": [
        "# historia boa, divida alta, garantias nenhuma, renda > 35\n",
        "# história ruim, divida alta, garantias adequada, renda <  15\n",
        "previsoes = regras_risco_credito\n",
        "previsoes = regras_risco_credito([['boa', 'alta', 'nenhuma', 'acima_35'], ['ruim', 'alta', 'adequada', '0_15']])\n",
        "previsoes"
      ],
      "metadata": {
        "colab": {
          "base_uri": "https://localhost:8080/"
        },
        "id": "b-iljgSCuRC2",
        "outputId": "7ccfe0e9-5802-4124-e091-181d1e520f67"
      },
      "execution_count": 17,
      "outputs": [
        {
          "output_type": "execute_result",
          "data": {
            "text/plain": [
              "array([1, 0])"
            ]
          },
          "metadata": {},
          "execution_count": 17
        }
      ]
    },
    {
      "cell_type": "markdown",
      "source": [
        "Mas a final, oque significa estes resultado???"
      ],
      "metadata": {
        "id": "gxBxrw2Zwy1t"
      }
    },
    {
      "cell_type": "code",
      "source": [
        "base_risco_credito.domain.class_var.values"
      ],
      "metadata": {
        "colab": {
          "base_uri": "https://localhost:8080/"
        },
        "id": "oDrUUkpow2R0",
        "outputId": "a043c71b-4944-4a34-e193-4af3695be6d9"
      },
      "execution_count": 19,
      "outputs": [
        {
          "output_type": "execute_result",
          "data": {
            "text/plain": [
              "('alto', 'baixo', 'moderado')"
            ]
          },
          "metadata": {},
          "execution_count": 19
        }
      ]
    },
    {
      "cell_type": "markdown",
      "source": [
        "1 = baixo e 0 = alto"
      ],
      "metadata": {
        "id": "0c2l9G9Aw-Bq"
      }
    },
    {
      "cell_type": "code",
      "source": [
        "for i in previsoes: #laço que percorre as previsões\n",
        "  #print(i)\n",
        "  print(base_risco_credito.domain.class_var.values[i]) #facilita para visualizar a previsão"
      ],
      "metadata": {
        "colab": {
          "base_uri": "https://localhost:8080/"
        },
        "id": "eJ08Sq-OxCiT",
        "outputId": "1f32cf5d-c3d1-4107-b4fb-4c8998e3fd84"
      },
      "execution_count": 22,
      "outputs": [
        {
          "output_type": "stream",
          "name": "stdout",
          "text": [
            "baixo\n",
            "alto\n"
          ]
        }
      ]
    }
  ]
}