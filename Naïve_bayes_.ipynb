{
  "nbformat": 4,
  "nbformat_minor": 0,
  "metadata": {
    "colab": {
      "name": "Naïve bayes .ipynb",
      "provenance": [],
      "authorship_tag": "ABX9TyMSv9MePG9laLX/A4v0fSDr"
    },
    "kernelspec": {
      "name": "python3",
      "display_name": "Python 3"
    },
    "language_info": {
      "name": "python"
    }
  },
  "cells": [
    {
      "cell_type": "markdown",
      "metadata": {
        "id": "Ww_Yu9fNXyWD"
      },
      "source": [
        "#Naïve bayes "
      ]
    },
    {
      "cell_type": "code",
      "metadata": {
        "id": "yoz4e8b_fQ34"
      },
      "source": [
        "from sklearn.naive_bayes import GaussianNB"
      ],
      "execution_count": 1,
      "outputs": []
    },
    {
      "cell_type": "code",
      "metadata": {
        "id": "KrWn4UrDZvBz"
      },
      "source": [
        "import pandas as pd"
      ],
      "execution_count": 2,
      "outputs": []
    },
    {
      "cell_type": "code",
      "metadata": {
        "colab": {
          "base_uri": "https://localhost:8080/",
          "height": 483
        },
        "id": "H-AFbbQIXcBw",
        "outputId": "21c5911a-72bc-4fa1-f771-3bfe1e196eea"
      },
      "source": [
        "base_risco_credito = pd.read_csv('risco_credito.csv')\n",
        "base_risco_credito "
      ],
      "execution_count": 3,
      "outputs": [
        {
          "output_type": "execute_result",
          "data": {
            "text/html": [
              "<div>\n",
              "<style scoped>\n",
              "    .dataframe tbody tr th:only-of-type {\n",
              "        vertical-align: middle;\n",
              "    }\n",
              "\n",
              "    .dataframe tbody tr th {\n",
              "        vertical-align: top;\n",
              "    }\n",
              "\n",
              "    .dataframe thead th {\n",
              "        text-align: right;\n",
              "    }\n",
              "</style>\n",
              "<table border=\"1\" class=\"dataframe\">\n",
              "  <thead>\n",
              "    <tr style=\"text-align: right;\">\n",
              "      <th></th>\n",
              "      <th>historia</th>\n",
              "      <th>divida</th>\n",
              "      <th>garantias</th>\n",
              "      <th>renda</th>\n",
              "      <th>risco</th>\n",
              "    </tr>\n",
              "  </thead>\n",
              "  <tbody>\n",
              "    <tr>\n",
              "      <th>0</th>\n",
              "      <td>ruim</td>\n",
              "      <td>alta</td>\n",
              "      <td>nenhuma</td>\n",
              "      <td>0_15</td>\n",
              "      <td>alto</td>\n",
              "    </tr>\n",
              "    <tr>\n",
              "      <th>1</th>\n",
              "      <td>desconhecida</td>\n",
              "      <td>alta</td>\n",
              "      <td>nenhuma</td>\n",
              "      <td>15_35</td>\n",
              "      <td>alto</td>\n",
              "    </tr>\n",
              "    <tr>\n",
              "      <th>2</th>\n",
              "      <td>desconhecida</td>\n",
              "      <td>baixa</td>\n",
              "      <td>nenhuma</td>\n",
              "      <td>15_35</td>\n",
              "      <td>moderado</td>\n",
              "    </tr>\n",
              "    <tr>\n",
              "      <th>3</th>\n",
              "      <td>desconhecida</td>\n",
              "      <td>baixa</td>\n",
              "      <td>nenhuma</td>\n",
              "      <td>acima_35</td>\n",
              "      <td>alto</td>\n",
              "    </tr>\n",
              "    <tr>\n",
              "      <th>4</th>\n",
              "      <td>desconhecida</td>\n",
              "      <td>baixa</td>\n",
              "      <td>nenhuma</td>\n",
              "      <td>acima_35</td>\n",
              "      <td>baixo</td>\n",
              "    </tr>\n",
              "    <tr>\n",
              "      <th>5</th>\n",
              "      <td>desconhecida</td>\n",
              "      <td>baixa</td>\n",
              "      <td>adequada</td>\n",
              "      <td>acima_35</td>\n",
              "      <td>baixo</td>\n",
              "    </tr>\n",
              "    <tr>\n",
              "      <th>6</th>\n",
              "      <td>ruim</td>\n",
              "      <td>baixa</td>\n",
              "      <td>nenhuma</td>\n",
              "      <td>0_15</td>\n",
              "      <td>alto</td>\n",
              "    </tr>\n",
              "    <tr>\n",
              "      <th>7</th>\n",
              "      <td>ruim</td>\n",
              "      <td>baixa</td>\n",
              "      <td>adequada</td>\n",
              "      <td>acima_35</td>\n",
              "      <td>moderado</td>\n",
              "    </tr>\n",
              "    <tr>\n",
              "      <th>8</th>\n",
              "      <td>boa</td>\n",
              "      <td>baixa</td>\n",
              "      <td>nenhuma</td>\n",
              "      <td>acima_35</td>\n",
              "      <td>baixo</td>\n",
              "    </tr>\n",
              "    <tr>\n",
              "      <th>9</th>\n",
              "      <td>boa</td>\n",
              "      <td>alta</td>\n",
              "      <td>adequada</td>\n",
              "      <td>acima_35</td>\n",
              "      <td>baixo</td>\n",
              "    </tr>\n",
              "    <tr>\n",
              "      <th>10</th>\n",
              "      <td>boa</td>\n",
              "      <td>alta</td>\n",
              "      <td>nenhuma</td>\n",
              "      <td>0_15</td>\n",
              "      <td>alto</td>\n",
              "    </tr>\n",
              "    <tr>\n",
              "      <th>11</th>\n",
              "      <td>boa</td>\n",
              "      <td>alta</td>\n",
              "      <td>nenhuma</td>\n",
              "      <td>15_35</td>\n",
              "      <td>moderado</td>\n",
              "    </tr>\n",
              "    <tr>\n",
              "      <th>12</th>\n",
              "      <td>boa</td>\n",
              "      <td>alta</td>\n",
              "      <td>nenhuma</td>\n",
              "      <td>acima_35</td>\n",
              "      <td>baixo</td>\n",
              "    </tr>\n",
              "    <tr>\n",
              "      <th>13</th>\n",
              "      <td>ruim</td>\n",
              "      <td>alta</td>\n",
              "      <td>nenhuma</td>\n",
              "      <td>15_35</td>\n",
              "      <td>alto</td>\n",
              "    </tr>\n",
              "  </tbody>\n",
              "</table>\n",
              "</div>"
            ],
            "text/plain": [
              "        historia divida garantias     renda     risco\n",
              "0           ruim   alta   nenhuma      0_15      alto\n",
              "1   desconhecida   alta   nenhuma     15_35      alto\n",
              "2   desconhecida  baixa   nenhuma     15_35  moderado\n",
              "3   desconhecida  baixa   nenhuma  acima_35      alto\n",
              "4   desconhecida  baixa   nenhuma  acima_35     baixo\n",
              "5   desconhecida  baixa  adequada  acima_35     baixo\n",
              "6           ruim  baixa   nenhuma      0_15      alto\n",
              "7           ruim  baixa  adequada  acima_35  moderado\n",
              "8            boa  baixa   nenhuma  acima_35     baixo\n",
              "9            boa   alta  adequada  acima_35     baixo\n",
              "10           boa   alta   nenhuma      0_15      alto\n",
              "11           boa   alta   nenhuma     15_35  moderado\n",
              "12           boa   alta   nenhuma  acima_35     baixo\n",
              "13          ruim   alta   nenhuma     15_35      alto"
            ]
          },
          "metadata": {
            "tags": []
          },
          "execution_count": 3
        }
      ]
    },
    {
      "cell_type": "code",
      "metadata": {
        "colab": {
          "base_uri": "https://localhost:8080/"
        },
        "id": "0-VcSxWJbCZj",
        "outputId": "f2649c9f-07c5-4b46-afd3-12ececea7d67"
      },
      "source": [
        "X_risco_credito = base_risco_credito.iloc[:, 0:4].values\n",
        "X_risco_credito"
      ],
      "execution_count": 4,
      "outputs": [
        {
          "output_type": "execute_result",
          "data": {
            "text/plain": [
              "array([['ruim', 'alta', 'nenhuma', '0_15'],\n",
              "       ['desconhecida', 'alta', 'nenhuma', '15_35'],\n",
              "       ['desconhecida', 'baixa', 'nenhuma', '15_35'],\n",
              "       ['desconhecida', 'baixa', 'nenhuma', 'acima_35'],\n",
              "       ['desconhecida', 'baixa', 'nenhuma', 'acima_35'],\n",
              "       ['desconhecida', 'baixa', 'adequada', 'acima_35'],\n",
              "       ['ruim', 'baixa', 'nenhuma', '0_15'],\n",
              "       ['ruim', 'baixa', 'adequada', 'acima_35'],\n",
              "       ['boa', 'baixa', 'nenhuma', 'acima_35'],\n",
              "       ['boa', 'alta', 'adequada', 'acima_35'],\n",
              "       ['boa', 'alta', 'nenhuma', '0_15'],\n",
              "       ['boa', 'alta', 'nenhuma', '15_35'],\n",
              "       ['boa', 'alta', 'nenhuma', 'acima_35'],\n",
              "       ['ruim', 'alta', 'nenhuma', '15_35']], dtype=object)"
            ]
          },
          "metadata": {
            "tags": []
          },
          "execution_count": 4
        }
      ]
    },
    {
      "cell_type": "code",
      "metadata": {
        "colab": {
          "base_uri": "https://localhost:8080/"
        },
        "id": "iXeVTI45bldX",
        "outputId": "2c85777f-24a5-4e2b-89cf-7d597d8ea87d"
      },
      "source": [
        "y_risco_credito = base_risco_credito.iloc[:, 4].values\n",
        "y_risco_credito"
      ],
      "execution_count": 5,
      "outputs": [
        {
          "output_type": "execute_result",
          "data": {
            "text/plain": [
              "array(['alto', 'alto', 'moderado', 'alto', 'baixo', 'baixo', 'alto',\n",
              "       'moderado', 'baixo', 'baixo', 'alto', 'moderado', 'baixo', 'alto'],\n",
              "      dtype=object)"
            ]
          },
          "metadata": {
            "tags": []
          },
          "execution_count": 5
        }
      ]
    },
    {
      "cell_type": "code",
      "metadata": {
        "id": "2BVKKwgkcAn5"
      },
      "source": [
        "from sklearn.preprocessing import LabelEncoder #Instanciando os objetos da classe\n",
        "label_encoder_historia  = LabelEncoder()\n",
        "label_encoder_divida  = LabelEncoder()\n",
        "label_encoder_garantia  = LabelEncoder()\n",
        "label_encoder_renda  = LabelEncoder()"
      ],
      "execution_count": 6,
      "outputs": []
    },
    {
      "cell_type": "code",
      "metadata": {
        "id": "_ndK8kaOc0mq"
      },
      "source": [
        "X_risco_credito[:,0] = label_encoder_historia.fit_transform(X_risco_credito[:,0])\n",
        "X_risco_credito[:,1] = label_encoder_divida.fit_transform(X_risco_credito[:,1])\n",
        "X_risco_credito[:,2] = label_encoder_garantia.fit_transform(X_risco_credito[:,2])\n",
        "X_risco_credito[:,3] = label_encoder_renda.fit_transform(X_risco_credito[:,3])"
      ],
      "execution_count": 7,
      "outputs": []
    },
    {
      "cell_type": "code",
      "metadata": {
        "colab": {
          "base_uri": "https://localhost:8080/"
        },
        "id": "PZETY3EuebiS",
        "outputId": "40c8c725-e5de-4fd8-9d39-5b7f559ef5a7"
      },
      "source": [
        "X_risco_credito #Agora só temos atributos numéricos"
      ],
      "execution_count": 18,
      "outputs": [
        {
          "output_type": "execute_result",
          "data": {
            "text/plain": [
              "array([[2, 0, 1, 0],\n",
              "       [1, 0, 1, 1],\n",
              "       [1, 1, 1, 1],\n",
              "       [1, 1, 1, 2],\n",
              "       [1, 1, 1, 2],\n",
              "       [1, 1, 0, 2],\n",
              "       [2, 1, 1, 0],\n",
              "       [2, 1, 0, 2],\n",
              "       [0, 1, 1, 2],\n",
              "       [0, 0, 0, 2],\n",
              "       [0, 0, 1, 0],\n",
              "       [0, 0, 1, 1],\n",
              "       [0, 0, 1, 2],\n",
              "       [2, 0, 1, 1]], dtype=object)"
            ]
          },
          "metadata": {
            "tags": []
          },
          "execution_count": 18
        }
      ]
    },
    {
      "cell_type": "code",
      "metadata": {
        "id": "Rp4cqy_beq-a"
      },
      "source": [
        "import pickle\n",
        "with open('risco_credito.pkl','wb') as f:\n",
        "  pickle.dump([X_risco_credito, y_risco_credito], f)"
      ],
      "execution_count": 9,
      "outputs": []
    },
    {
      "cell_type": "code",
      "metadata": {
        "colab": {
          "base_uri": "https://localhost:8080/"
        },
        "id": "EOVAb6m5fMgQ",
        "outputId": "b62bddf6-85e4-4c22-d383-0ad0b8bc24fb"
      },
      "source": [
        "naive_risco_credito = GaussianNB()\n",
        "naive_risco_credito.fit(X_risco_credito, y_risco_credito) #primeiro parametro sao os atributos previsores e o segundo as classes(resposta esperada)"
      ],
      "execution_count": 10,
      "outputs": [
        {
          "output_type": "execute_result",
          "data": {
            "text/plain": [
              "GaussianNB(priors=None, var_smoothing=1e-09)"
            ]
          },
          "metadata": {
            "tags": []
          },
          "execution_count": 10
        }
      ]
    },
    {
      "cell_type": "code",
      "metadata": {
        "id": "xVZUUPYAinaz"
      },
      "source": [
        "#história boa(0), dívida alta(0), garantia nenhuma(1), renda > 35(2)     #dados para teste\n",
        "#história ruim(2), dívida alta(0), garantia adequada(0), renda < 15 (0)"
      ],
      "execution_count": 11,
      "outputs": []
    },
    {
      "cell_type": "code",
      "metadata": {
        "colab": {
          "base_uri": "https://localhost:8080/"
        },
        "id": "Xa5FEnPvgiDl",
        "outputId": "c229556c-9bcb-4f7e-a49b-1e03e387fca6"
      },
      "source": [
        "previsao = naive_risco_credito.predict([[0,0,1,2],[2,0,0,0]])\n",
        "previsao"
      ],
      "execution_count": 12,
      "outputs": [
        {
          "output_type": "execute_result",
          "data": {
            "text/plain": [
              "array(['baixo', 'moderado'], dtype='<U8')"
            ]
          },
          "metadata": {
            "tags": []
          },
          "execution_count": 12
        }
      ]
    },
    {
      "cell_type": "code",
      "metadata": {
        "colab": {
          "base_uri": "https://localhost:8080/"
        },
        "id": "sLXeld2UmNT5",
        "outputId": "6dc374de-4ba9-4835-e17f-89e1ada798f6"
      },
      "source": [
        "naive_risco_credito.classes_"
      ],
      "execution_count": 13,
      "outputs": [
        {
          "output_type": "execute_result",
          "data": {
            "text/plain": [
              "array(['alto', 'baixo', 'moderado'], dtype='<U8')"
            ]
          },
          "metadata": {
            "tags": []
          },
          "execution_count": 13
        }
      ]
    },
    {
      "cell_type": "code",
      "metadata": {
        "colab": {
          "base_uri": "https://localhost:8080/"
        },
        "id": "B_FIVrMjmURb",
        "outputId": "c960ace4-2cf4-4dde-c93a-4645784384a0"
      },
      "source": [
        "naive_risco_credito.class_count_"
      ],
      "execution_count": 14,
      "outputs": [
        {
          "output_type": "execute_result",
          "data": {
            "text/plain": [
              "array([6., 5., 3.])"
            ]
          },
          "metadata": {
            "tags": []
          },
          "execution_count": 14
        }
      ]
    },
    {
      "cell_type": "code",
      "metadata": {
        "colab": {
          "base_uri": "https://localhost:8080/"
        },
        "id": "krSEHG3_mfZF",
        "outputId": "c7b281b7-10ed-47f5-fd4d-87f0745f9540"
      },
      "source": [
        "naive_risco_credito.class_prior_"
      ],
      "execution_count": 15,
      "outputs": [
        {
          "output_type": "execute_result",
          "data": {
            "text/plain": [
              "array([0.42857143, 0.35714286, 0.21428571])"
            ]
          },
          "metadata": {
            "tags": []
          },
          "execution_count": 15
        }
      ]
    },
    {
      "cell_type": "code",
      "metadata": {
        "id": "fMcqPpvdmodP"
      },
      "source": [
        ""
      ],
      "execution_count": 15,
      "outputs": []
    },
    {
      "cell_type": "markdown",
      "metadata": {
        "id": "LMf4OAqBjo3H"
      },
      "source": [
        "#Base credit data"
      ]
    },
    {
      "cell_type": "code",
      "metadata": {
        "id": "UjGVaXUEjs_a"
      },
      "source": [
        "import pickle\n",
        "with open('credit.pkl', mode='rb') as f:\n",
        "  X_credit_treinamento, y_credit_treinamemto, X_credit_teste, y_credit_teste = pickle.load(f)"
      ],
      "execution_count": 16,
      "outputs": []
    },
    {
      "cell_type": "code",
      "metadata": {
        "colab": {
          "base_uri": "https://localhost:8080/"
        },
        "id": "En6mBJjylmhD",
        "outputId": "2c0dd57b-4a2f-420d-db8e-6ab0e49caec4"
      },
      "source": [
        "X_credit_treinamento.shape, y_credit_treinamemto.shape #X Contem o atributos previsores, Y contem as classes"
      ],
      "execution_count": 17,
      "outputs": [
        {
          "output_type": "execute_result",
          "data": {
            "text/plain": [
              "((1500, 3), (1500,))"
            ]
          },
          "metadata": {
            "tags": []
          },
          "execution_count": 17
        }
      ]
    },
    {
      "cell_type": "code",
      "metadata": {
        "colab": {
          "base_uri": "https://localhost:8080/"
        },
        "id": "5JgMetTo57C9",
        "outputId": "47aeeb72-9455-4682-df5c-30b1061e9888"
      },
      "source": [
        "X_credit_teste.shape, y_credit_teste.shape"
      ],
      "execution_count": 20,
      "outputs": [
        {
          "output_type": "execute_result",
          "data": {
            "text/plain": [
              "((500, 3), (500,))"
            ]
          },
          "metadata": {
            "tags": []
          },
          "execution_count": 20
        }
      ]
    },
    {
      "cell_type": "code",
      "metadata": {
        "colab": {
          "base_uri": "https://localhost:8080/"
        },
        "id": "Ty2iGNRq9kBz",
        "outputId": "795af825-113b-4961-ecb9-a151182f38cc"
      },
      "source": [
        "naive_credit_data = GaussianNB() #Treinamento do algoritmo\n",
        "naive_credit_data.fit(X_credit_treinamento, y_credit_treinamemto)"
      ],
      "execution_count": 21,
      "outputs": [
        {
          "output_type": "execute_result",
          "data": {
            "text/plain": [
              "GaussianNB(priors=None, var_smoothing=1e-09)"
            ]
          },
          "metadata": {
            "tags": []
          },
          "execution_count": 21
        }
      ]
    },
    {
      "cell_type": "code",
      "metadata": {
        "colab": {
          "base_uri": "https://localhost:8080/"
        },
        "id": "zbaCOLaO-NPw",
        "outputId": "7f6c465f-861d-4e25-fb18-31b4e42b69d9"
      },
      "source": [
        "previsoes  = naive_credit_data.predict(X_credit_teste) #precisão com dados que não foram utilizados no treinamento do algoritmo \n",
        "previsoes #contem as respostas do algoritmo \n"
      ],
      "execution_count": 23,
      "outputs": [
        {
          "output_type": "execute_result",
          "data": {
            "text/plain": [
              "array([1, 0, 0, 0, 0, 0, 0, 0, 0, 0, 0, 0, 0, 0, 0, 0, 1, 0, 0, 1, 0, 0,\n",
              "       0, 0, 0, 0, 0, 0, 0, 0, 0, 0, 0, 0, 0, 1, 1, 0, 0, 0, 0, 0, 0, 0,\n",
              "       0, 1, 1, 0, 1, 0, 0, 0, 0, 0, 0, 0, 0, 0, 0, 1, 0, 0, 0, 1, 0, 0,\n",
              "       0, 0, 0, 1, 0, 0, 1, 0, 0, 1, 0, 0, 0, 0, 0, 0, 0, 0, 0, 0, 0, 0,\n",
              "       0, 0, 0, 0, 0, 0, 0, 0, 0, 0, 0, 0, 0, 0, 0, 1, 0, 0, 0, 0, 0, 0,\n",
              "       0, 0, 1, 0, 0, 0, 0, 0, 0, 0, 1, 1, 0, 0, 0, 0, 0, 0, 0, 0, 0, 1,\n",
              "       0, 0, 0, 0, 0, 0, 0, 0, 0, 0, 0, 0, 1, 0, 1, 0, 0, 0, 0, 0, 1, 0,\n",
              "       0, 0, 0, 0, 0, 1, 0, 0, 0, 0, 0, 0, 0, 0, 0, 0, 0, 0, 0, 0, 0, 0,\n",
              "       0, 1, 0, 0, 0, 0, 0, 1, 0, 0, 0, 0, 1, 0, 0, 0, 1, 0, 0, 0, 0, 0,\n",
              "       0, 0, 0, 0, 0, 0, 0, 0, 1, 1, 0, 0, 0, 0, 0, 0, 0, 0, 0, 0, 0, 0,\n",
              "       1, 0, 0, 0, 0, 0, 0, 0, 0, 1, 0, 0, 0, 0, 0, 0, 0, 0, 0, 0, 0, 0,\n",
              "       0, 0, 0, 0, 0, 0, 0, 0, 0, 0, 0, 0, 0, 0, 0, 0, 1, 0, 1, 0, 0, 0,\n",
              "       0, 0, 0, 0, 0, 0, 0, 0, 0, 1, 0, 0, 0, 0, 0, 0, 0, 0, 0, 0, 0, 0,\n",
              "       0, 0, 0, 0, 0, 0, 0, 0, 0, 0, 1, 0, 0, 0, 0, 0, 0, 0, 1, 0, 0, 0,\n",
              "       0, 0, 0, 1, 0, 0, 0, 1, 0, 0, 0, 0, 0, 1, 0, 0, 0, 0, 0, 1, 0, 0,\n",
              "       0, 0, 0, 0, 0, 0, 0, 0, 0, 0, 0, 0, 1, 0, 0, 0, 0, 0, 0, 1, 0, 0,\n",
              "       0, 0, 0, 1, 0, 0, 0, 0, 0, 0, 0, 0, 0, 0, 0, 0, 0, 0, 0, 0, 0, 0,\n",
              "       1, 0, 0, 0, 0, 0, 0, 0, 0, 0, 0, 0, 0, 0, 0, 0, 0, 0, 0, 0, 0, 1,\n",
              "       0, 0, 0, 0, 0, 0, 0, 0, 0, 0, 0, 0, 0, 0, 0, 0, 0, 0, 0, 0, 0, 0,\n",
              "       0, 0, 0, 0, 0, 0, 0, 0, 0, 0, 0, 0, 0, 1, 0, 0, 0, 0, 0, 0, 0, 0,\n",
              "       0, 0, 0, 0, 1, 0, 1, 0, 0, 0, 0, 0, 0, 0, 0, 0, 0, 0, 0, 0, 0, 0,\n",
              "       0, 0, 1, 0, 0, 0, 0, 0, 0, 0, 0, 0, 0, 0, 0, 0, 0, 0, 0, 0, 0, 0,\n",
              "       0, 0, 1, 0, 0, 0, 0, 0, 0, 0, 0, 0, 0, 0, 0, 0])"
            ]
          },
          "metadata": {
            "tags": []
          },
          "execution_count": 23
        }
      ]
    },
    {
      "cell_type": "code",
      "metadata": {
        "colab": {
          "base_uri": "https://localhost:8080/"
        },
        "id": "RwUYNXFK-0r0",
        "outputId": "84eec0a5-4ab5-418d-c97a-71c5195e16f0"
      },
      "source": [
        "y_credit_teste #respostas corretas "
      ],
      "execution_count": 24,
      "outputs": [
        {
          "output_type": "execute_result",
          "data": {
            "text/plain": [
              "array([1, 0, 0, 0, 0, 0, 0, 0, 0, 0, 0, 0, 0, 0, 0, 0, 1, 0, 0, 1, 0, 0,\n",
              "       0, 0, 0, 0, 0, 0, 0, 0, 0, 0, 0, 0, 0, 1, 1, 0, 0, 0, 0, 0, 0, 0,\n",
              "       0, 1, 1, 0, 1, 0, 0, 0, 0, 0, 0, 0, 0, 0, 0, 1, 0, 0, 0, 1, 0, 0,\n",
              "       0, 0, 0, 1, 0, 0, 1, 0, 0, 1, 0, 0, 1, 0, 0, 0, 0, 0, 0, 0, 1, 0,\n",
              "       0, 0, 0, 0, 0, 0, 0, 0, 0, 0, 0, 0, 0, 0, 0, 1, 0, 0, 0, 0, 0, 1,\n",
              "       0, 0, 1, 0, 0, 0, 0, 0, 0, 0, 0, 0, 0, 0, 0, 0, 0, 0, 0, 0, 0, 1,\n",
              "       0, 0, 0, 0, 0, 0, 0, 0, 0, 0, 0, 0, 1, 0, 0, 0, 0, 0, 0, 0, 1, 0,\n",
              "       0, 0, 0, 0, 0, 0, 0, 0, 0, 0, 0, 1, 0, 0, 0, 1, 0, 0, 0, 0, 0, 0,\n",
              "       0, 1, 0, 0, 0, 0, 0, 1, 0, 0, 0, 1, 1, 0, 0, 0, 1, 0, 0, 0, 0, 0,\n",
              "       0, 0, 0, 0, 0, 0, 0, 0, 1, 1, 0, 1, 0, 0, 0, 0, 0, 0, 0, 0, 0, 0,\n",
              "       1, 0, 0, 0, 0, 0, 0, 0, 0, 1, 0, 0, 0, 0, 0, 0, 0, 0, 0, 0, 0, 0,\n",
              "       0, 1, 1, 0, 1, 1, 0, 0, 0, 0, 0, 0, 0, 0, 0, 0, 1, 0, 1, 0, 0, 0,\n",
              "       0, 0, 0, 0, 0, 0, 0, 0, 0, 0, 0, 0, 0, 0, 0, 0, 0, 0, 0, 0, 0, 0,\n",
              "       0, 0, 0, 0, 0, 0, 0, 0, 0, 0, 1, 0, 0, 0, 0, 0, 0, 0, 1, 0, 0, 0,\n",
              "       0, 0, 1, 1, 0, 0, 0, 1, 0, 0, 0, 0, 0, 1, 0, 0, 0, 0, 0, 1, 0, 0,\n",
              "       0, 0, 0, 0, 0, 1, 0, 0, 0, 0, 0, 0, 1, 0, 0, 0, 0, 0, 0, 1, 0, 0,\n",
              "       0, 0, 0, 1, 0, 0, 0, 0, 0, 0, 0, 0, 0, 0, 0, 0, 0, 0, 0, 0, 0, 0,\n",
              "       0, 0, 0, 0, 1, 0, 0, 0, 0, 0, 0, 0, 1, 0, 0, 0, 0, 0, 0, 0, 0, 0,\n",
              "       0, 0, 0, 0, 1, 0, 0, 0, 0, 0, 0, 0, 0, 0, 1, 0, 0, 0, 0, 0, 0, 0,\n",
              "       0, 0, 0, 0, 0, 0, 0, 0, 0, 0, 0, 0, 0, 1, 0, 0, 0, 0, 0, 0, 0, 0,\n",
              "       0, 1, 0, 0, 1, 0, 0, 0, 0, 0, 0, 0, 1, 0, 0, 0, 0, 0, 0, 0, 0, 0,\n",
              "       0, 0, 1, 0, 0, 0, 0, 0, 0, 0, 0, 0, 0, 0, 0, 1, 0, 0, 0, 0, 0, 0,\n",
              "       0, 0, 1, 0, 0, 0, 1, 0, 0, 0, 0, 0, 0, 0, 1, 1])"
            ]
          },
          "metadata": {
            "tags": []
          },
          "execution_count": 24
        }
      ]
    },
    {
      "cell_type": "code",
      "metadata": {
        "colab": {
          "base_uri": "https://localhost:8080/"
        },
        "id": "2IhQ92QA_TpR",
        "outputId": "90c99c54-5062-410e-c141-e0913a3de4dc"
      },
      "source": [
        "from sklearn.metrics import accuracy_score, confusion_matrix, classification_report #comparação entre os resultados \n",
        "accuracy_score(y_credit_teste, previsoes) #retorna a porcentagem dos acertos "
      ],
      "execution_count": 37,
      "outputs": [
        {
          "output_type": "execute_result",
          "data": {
            "text/plain": [
              "0.938"
            ]
          },
          "metadata": {
            "tags": []
          },
          "execution_count": 37
        }
      ]
    },
    {
      "cell_type": "code",
      "metadata": {
        "colab": {
          "base_uri": "https://localhost:8080/"
        },
        "id": "qpSoDdJY_Tj8",
        "outputId": "cf5f28de-24f3-4dd6-c9f4-a1b7abd7ee95"
      },
      "source": [
        "confusion_matrix(y_credit_teste, previsoes)"
      ],
      "execution_count": 29,
      "outputs": [
        {
          "output_type": "execute_result",
          "data": {
            "text/plain": [
              "array([[428,   8],\n",
              "       [ 23,  41]])"
            ]
          },
          "metadata": {
            "tags": []
          },
          "execution_count": 29
        }
      ]
    },
    {
      "cell_type": "code",
      "metadata": {
        "id": "2zRZc9tXAetY"
      },
      "source": [
        "from yellowbrick.classifier import ConfusionMatrix"
      ],
      "execution_count": 35,
      "outputs": []
    },
    {
      "cell_type": "code",
      "metadata": {
        "colab": {
          "base_uri": "https://localhost:8080/",
          "height": 361
        },
        "id": "TvoVPPKSAr1l",
        "outputId": "6bf1ec27-d43c-4559-9012-fa301fe596fc"
      },
      "source": [
        "cm = ConfusionMatrix(naive_credit_data)\n",
        "cm.fit(X_credit_treinamento, y_credit_treinamemto)\n",
        "cm.score(X_credit_teste, y_credit_teste)"
      ],
      "execution_count": 34,
      "outputs": [
        {
          "output_type": "execute_result",
          "data": {
            "text/plain": [
              "0.938"
            ]
          },
          "metadata": {
            "tags": []
          },
          "execution_count": 34
        },
        {
          "output_type": "display_data",
          "data": {
            "image/png": "[encoded data removed]",
            "text/plain": [
              "<Figure size 576x396 with 1 Axes>"
            ]
          },
          "metadata": {
            "tags": []
          }
        }
      ]
    },
    {
      "cell_type": "code",
      "metadata": {
        "colab": {
          "base_uri": "https://localhost:8080/"
        },
        "id": "wH4xJ6tTB6ZY",
        "outputId": "012ecfee-6932-4fbc-9947-201d1c04ccb7"
      },
      "source": [
        "print(classification_report(y_credit_teste, previsoes))"
      ],
      "execution_count": 38,
      "outputs": [
        {
          "output_type": "stream",
          "text": [
            "              precision    recall  f1-score   support\n",
            "\n",
            "           0       0.95      0.98      0.97       436\n",
            "           1       0.84      0.64      0.73        64\n",
            "\n",
            "    accuracy                           0.94       500\n",
            "   macro avg       0.89      0.81      0.85       500\n",
            "weighted avg       0.93      0.94      0.93       500\n",
            "\n"
          ],
          "name": "stdout"
        }
      ]
    },
    {
      "cell_type": "markdown",
      "metadata": {
        "id": "FMx4MmSVJHdg"
      },
      "source": [
        ""
      ]
    },
    {
      "cell_type": "markdown",
      "metadata": {
        "id": "1y19YC7jIyEA"
      },
      "source": [
        ""
      ]
    },
    {
      "cell_type": "markdown",
      "metadata": {
        "id": "ZKP1HumxEQKU"
      },
      "source": [
        "#Base Census"
      ]
    },
    {
      "cell_type": "code",
      "metadata": {
        "colab": {
          "base_uri": "https://localhost:8080/",
          "height": 180
        },
        "id": "rIxXh3YOEUzG",
        "outputId": "dc1b5bd7-9da5-4231-e965-970e6e8f092b"
      },
      "source": [
        "with open('census.pkl', 'rb') as f:\n",
        "  X_census_treinamento, y_census_treinamento, X_census_teste, y_census_teste = pickle.load(f)"
      ],
      "execution_count": 50,
      "outputs": [
        {
          "output_type": "error",
          "ename": "UnpicklingError",
          "evalue": "ignored",
          "traceback": [
            "\u001b[0;31m---------------------------------------------------------------------------\u001b[0m",
            "\u001b[0;31mUnpicklingError\u001b[0m                           Traceback (most recent call last)",
            "\u001b[0;32m<ipython-input-50-3880ca7fe747>\u001b[0m in \u001b[0;36m<module>\u001b[0;34m()\u001b[0m\n\u001b[1;32m      1\u001b[0m \u001b[0;32mwith\u001b[0m \u001b[0mopen\u001b[0m\u001b[0;34m(\u001b[0m\u001b[0;34m'census.pkl'\u001b[0m\u001b[0;34m,\u001b[0m \u001b[0;34m'rb'\u001b[0m\u001b[0;34m)\u001b[0m \u001b[0;32mas\u001b[0m \u001b[0mf\u001b[0m\u001b[0;34m:\u001b[0m\u001b[0;34m\u001b[0m\u001b[0;34m\u001b[0m\u001b[0m\n\u001b[0;32m----> 2\u001b[0;31m   \u001b[0mX_census_treinamento\u001b[0m\u001b[0;34m,\u001b[0m \u001b[0my_census_treinamento\u001b[0m\u001b[0;34m,\u001b[0m \u001b[0mX_census_teste\u001b[0m\u001b[0;34m,\u001b[0m \u001b[0my_census_teste\u001b[0m \u001b[0;34m=\u001b[0m \u001b[0mpickle\u001b[0m\u001b[0;34m.\u001b[0m\u001b[0mload\u001b[0m\u001b[0;34m(\u001b[0m\u001b[0mf\u001b[0m\u001b[0;34m)\u001b[0m\u001b[0;34m\u001b[0m\u001b[0;34m\u001b[0m\u001b[0m\n\u001b[0m",
            "\u001b[0;31mUnpicklingError\u001b[0m: pickle data was truncated"
          ]
        }
      ]
    }
  ]
}