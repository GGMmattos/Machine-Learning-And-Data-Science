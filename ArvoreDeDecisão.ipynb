{
  "nbformat": 4,
  "nbformat_minor": 0,
  "metadata": {
    "colab": {
      "name": "ArvoreDeDecisão",
      "provenance": [],
      "collapsed_sections": [],
      "authorship_tag": "ABX9TyPNeqqqqRYfKekuCMHalRw6",
      "include_colab_link": true
    },
    "kernelspec": {
      "name": "python3",
      "display_name": "Python 3"
    },
    "language_info": {
      "name": "python"
    }
  },
  "cells": [
    {
      "cell_type": "markdown",
      "metadata": {
        "id": "view-in-github",
        "colab_type": "text"
      },
      "source": [
        "<a href=\"https://colab.research.google.com/github/GGMmattos/Machine-Learning-And-Data-Science/blob/main/ArvoreDeDecis%C3%A3o.ipynb\" target=\"_parent\"><img src=\"https://colab.research.google.com/assets/colab-badge.svg\" alt=\"Open In Colab\"/></a>"
      ]
    },
    {
      "cell_type": "markdown",
      "source": [
        "# Arvore de decisão"
      ],
      "metadata": {
        "id": "BpZFVYxvJvrT"
      }
    },
    {
      "cell_type": "markdown",
      "source": [
        "Importação da árvore"
      ],
      "metadata": {
        "id": "UoHaV7cqKAMR"
      }
    },
    {
      "cell_type": "code",
      "execution_count": null,
      "metadata": {
        "id": "sPFskILyJOYT"
      },
      "outputs": [],
      "source": [
        "from sklearn.tree import DecisionTreeClassifier"
      ]
    },
    {
      "cell_type": "markdown",
      "source": [
        ""
      ],
      "metadata": {
        "id": "Bib7U9nnKA8A"
      }
    },
    {
      "cell_type": "markdown",
      "source": [
        "# Base Risco de Credito"
      ],
      "metadata": {
        "id": "wyp3UnigKPBx"
      }
    },
    {
      "cell_type": "code",
      "source": [
        "import pickle \n",
        "with open('risco_credito.pkl', 'rb') as f:\n",
        "  X_risco_credito, y_risco_credito = pickle.load(f)"
      ],
      "metadata": {
        "id": "2obxLvgJLNni"
      },
      "execution_count": null,
      "outputs": []
    },
    {
      "cell_type": "code",
      "source": [
        "X_risco_credito"
      ],
      "metadata": {
        "colab": {
          "base_uri": "https://localhost:8080/"
        },
        "id": "89lgqHKdMT79",
        "outputId": "2fed85be-e036-4a34-f7c9-cc30cb37fd2f"
      },
      "execution_count": null,
      "outputs": [
        {
          "output_type": "execute_result",
          "data": {
            "text/plain": [
              "array([[2, 0, 1, 0],\n",
              "       [1, 0, 1, 1],\n",
              "       [1, 1, 1, 1],\n",
              "       [1, 1, 1, 2],\n",
              "       [1, 1, 1, 2],\n",
              "       [1, 1, 0, 2],\n",
              "       [2, 1, 1, 0],\n",
              "       [2, 1, 0, 2],\n",
              "       [0, 1, 1, 2],\n",
              "       [0, 0, 0, 2],\n",
              "       [0, 0, 1, 0],\n",
              "       [0, 0, 1, 1],\n",
              "       [0, 0, 1, 2],\n",
              "       [2, 0, 1, 1]], dtype=object)"
            ]
          },
          "metadata": {},
          "execution_count": 5
        }
      ]
    },
    {
      "cell_type": "code",
      "source": [
        "y_risco_credito"
      ],
      "metadata": {
        "colab": {
          "base_uri": "https://localhost:8080/"
        },
        "id": "tOJqo9rOMYpR",
        "outputId": "842e43f9-5669-404b-aab5-9c4c85b39dfa"
      },
      "execution_count": null,
      "outputs": [
        {
          "output_type": "execute_result",
          "data": {
            "text/plain": [
              "array(['alto', 'alto', 'moderado', 'alto', 'baixo', 'baixo', 'alto',\n",
              "       'moderado', 'baixo', 'baixo', 'alto', 'moderado', 'baixo', 'alto'],\n",
              "      dtype=object)"
            ]
          },
          "metadata": {},
          "execution_count": 9
        }
      ]
    },
    {
      "cell_type": "code",
      "source": [
        "arvore_risco_credito = DecisionTreeClassifier(criterion='entropy')\n",
        "arvore_risco_credito.fit(X_risco_credito, y_risco_credito) #Onde ocorre o treinamento, o fit encaixa dos dados no algoritmo\n",
        "#primeiro parametr atributo previsor, segundo parametro são as classes"
      ],
      "metadata": {
        "colab": {
          "base_uri": "https://localhost:8080/"
        },
        "id": "FggVa9x4ORc6",
        "outputId": "8d6cad6c-1241-4358-fda6-0debbcaba80e"
      },
      "execution_count": null,
      "outputs": [
        {
          "output_type": "execute_result",
          "data": {
            "text/plain": [
              "DecisionTreeClassifier(criterion='entropy')"
            ]
          },
          "metadata": {},
          "execution_count": 11
        }
      ]
    },
    {
      "cell_type": "code",
      "source": [
        "arvore_risco_credito.feature_importances_"
      ],
      "metadata": {
        "colab": {
          "base_uri": "https://localhost:8080/"
        },
        "id": "F454StFcPRDL",
        "outputId": "af8cfd4c-b68f-4e32-bffa-47a8446409ef"
      },
      "execution_count": null,
      "outputs": [
        {
          "output_type": "execute_result",
          "data": {
            "text/plain": [
              "array([0.41391643, 0.06408636, 0.03885431, 0.4831429 ])"
            ]
          },
          "metadata": {},
          "execution_count": 8
        }
      ]
    }
  ]
}