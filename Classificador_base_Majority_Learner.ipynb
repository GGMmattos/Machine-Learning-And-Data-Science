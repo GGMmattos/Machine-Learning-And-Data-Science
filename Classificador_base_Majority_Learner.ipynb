{
  "nbformat": 4,
  "nbformat_minor": 0,
  "metadata": {
    "colab": {
      "name": "Classificador base - Majority Learner",
      "provenance": [],
      "collapsed_sections": [],
      "authorship_tag": "ABX9TyN5gdSnk/mIb/45TM3gW9rK",
      "include_colab_link": true
    },
    "kernelspec": {
      "name": "python3",
      "display_name": "Python 3"
    },
    "language_info": {
      "name": "python"
    }
  },
  "cells": [
    {
      "cell_type": "markdown",
      "metadata": {
        "id": "view-in-github",
        "colab_type": "text"
      },
      "source": [
        "<a href=\"https://colab.research.google.com/github/GGMmattos/Machine-Learning-And-Data-Science/blob/main/Classificador_base_Majority_Learner.ipynb\" target=\"_parent\"><img src=\"https://colab.research.google.com/assets/colab-badge.svg\" alt=\"Open In Colab\"/></a>"
      ]
    },
    {
      "cell_type": "markdown",
      "source": [
        "# Base Credit data"
      ],
      "metadata": {
        "id": "_UHpgm2K4IhP"
      }
    },
    {
      "cell_type": "code",
      "source": [
        "pip install Orange3"
      ],
      "metadata": {
        "id": "1ZSKNX4y5Em4"
      },
      "execution_count": null,
      "outputs": []
    },
    {
      "cell_type": "code",
      "source": [
        "import Orange"
      ],
      "metadata": {
        "id": "T9QZtt6B5sio"
      },
      "execution_count": null,
      "outputs": []
    },
    {
      "cell_type": "code",
      "source": [
        "base_credit = Orange.data.Table(\"credit_data_regras.csv\")"
      ],
      "metadata": {
        "id": "VFAjaSzx4MJO"
      },
      "execution_count": null,
      "outputs": []
    },
    {
      "cell_type": "code",
      "source": [
        "base_credit.domain"
      ],
      "metadata": {
        "colab": {
          "base_uri": "https://localhost:8080/"
        },
        "id": "4bubIjUj5z5n",
        "outputId": "31dbad20-58ef-4f94-9abf-aeff1e94e36e"
      },
      "execution_count": null,
      "outputs": [
        {
          "output_type": "execute_result",
          "data": {
            "text/plain": [
              "[income, age, loan | default]"
            ]
          },
          "metadata": {},
          "execution_count": 31
        }
      ]
    },
    {
      "cell_type": "markdown",
      "source": [
        "Criação do algoritmo "
      ],
      "metadata": {
        "id": "qhp5tlmE59JV"
      }
    },
    {
      "cell_type": "code",
      "source": [
        "majority = Orange.classification.MajorityLearner()"
      ],
      "metadata": {
        "id": "hdn7iOLi6AbW"
      },
      "execution_count": null,
      "outputs": []
    },
    {
      "cell_type": "code",
      "source": [
        "previsoes = Orange.evaluation.testing.TestOnTestData(base_credit,base_credit, [majority])"
      ],
      "metadata": {
        "id": "yX2C2oIU6gGq"
      },
      "execution_count": null,
      "outputs": []
    },
    {
      "cell_type": "markdown",
      "source": [
        "Acima a repetição simboliza que estamos treinando e realizando os teste na mesma base"
      ],
      "metadata": {
        "id": "f1_Jl9Xz65tB"
      }
    },
    {
      "cell_type": "markdown",
      "source": [
        "Verificando o classification accuracy(precissão)"
      ],
      "metadata": {
        "id": "mRjt0jR-7K-K"
      }
    },
    {
      "cell_type": "code",
      "source": [
        "Orange.evaluation.CA(previsoes)"
      ],
      "metadata": {
        "colab": {
          "base_uri": "https://localhost:8080/"
        },
        "id": "du0R7vs17BJI",
        "outputId": "e6848cec-1eb5-4597-c4cf-c9de88d2c66c"
      },
      "execution_count": null,
      "outputs": [
        {
          "output_type": "execute_result",
          "data": {
            "text/plain": [
              "array([0.8585])"
            ]
          },
          "metadata": {},
          "execution_count": 34
        }
      ]
    },
    {
      "cell_type": "code",
      "source": [
        "for registro in base_credit:\n",
        "  print(registro.get_class())"
      ],
      "metadata": {
        "id": "So43K7Zi7hp3"
      },
      "execution_count": null,
      "outputs": []
    },
    {
      "cell_type": "code",
      "source": [
        "from collections import Counter\n",
        "Counter(str(registro.get_class()) for registro in base_credit )\n"
      ],
      "metadata": {
        "colab": {
          "base_uri": "https://localhost:8080/"
        },
        "id": "oS02bUmu70sC",
        "outputId": "40ced10f-54f7-457e-aea6-7c574d0fa0ff"
      },
      "execution_count": null,
      "outputs": [
        {
          "output_type": "execute_result",
          "data": {
            "text/plain": [
              "Counter({'0': 1717, '1': 283})"
            ]
          },
          "metadata": {},
          "execution_count": 36
        }
      ]
    },
    {
      "cell_type": "code",
      "source": [
        "1717/2000"
      ],
      "metadata": {
        "colab": {
          "base_uri": "https://localhost:8080/"
        },
        "id": "uVpt_MgY85Rg",
        "outputId": "b89911a1-76a1-483d-c87a-531668caff54"
      },
      "execution_count": null,
      "outputs": [
        {
          "output_type": "execute_result",
          "data": {
            "text/plain": [
              "0.8585"
            ]
          },
          "metadata": {},
          "execution_count": 37
        }
      ]
    },
    {
      "cell_type": "markdown",
      "source": [
        "O mesmo valor apresentado na previsão do algoritmo, como a maioria dos registros são da classe 0 todos os registros novos serão classificado com 0,"
      ],
      "metadata": {
        "id": "q00jlYjA8-95"
      }
    },
    {
      "cell_type": "markdown",
      "source": [
        "Concluimos que é interessante usarmos um algoritmo que tenha nivel de precisão(accuracy) acima de 85%, sendo este valor considerado linha base."
      ],
      "metadata": {
        "id": "kf4F-76d9wZP"
      }
    },
    {
      "cell_type": "markdown",
      "source": [
        "# Base Census"
      ],
      "metadata": {
        "id": "Q1jbj4nLCp_G"
      }
    },
    {
      "cell_type": "code",
      "source": [
        "base_census = Orange.data.Table('census_regras.csv')"
      ],
      "metadata": {
        "id": "jw-V4jLSC8Q0"
      },
      "execution_count": null,
      "outputs": []
    },
    {
      "cell_type": "code",
      "source": [
        "base_census.domain"
      ],
      "metadata": {
        "colab": {
          "base_uri": "https://localhost:8080/"
        },
        "id": "etIUscDADsMh",
        "outputId": "9cf6cd11-d1c8-4533-f949-09684e9b0b9b"
      },
      "execution_count": null,
      "outputs": [
        {
          "output_type": "execute_result",
          "data": {
            "text/plain": [
              "[age, workclass, final-weight, education, education-num, marital-status, occupation, relationship, race, sex, capital-gain, capital-loos, hour-per-week, native-country | income]"
            ]
          },
          "metadata": {},
          "execution_count": 43
        }
      ]
    },
    {
      "cell_type": "code",
      "source": [
        "majority = Orange.classification.MajorityLearner()\n",
        "previsoes = Orange.evaluation.testing.TestOnTestData(base_census, base_census, [majority])\n",
        "Orange.evaluation.CA(previsoes)"
      ],
      "metadata": {
        "colab": {
          "base_uri": "https://localhost:8080/"
        },
        "id": "mEZfi6ECEfRJ",
        "outputId": "dafda5ee-c5b2-4a8c-aeff-a4f12c935944"
      },
      "execution_count": null,
      "outputs": [
        {
          "output_type": "execute_result",
          "data": {
            "text/plain": [
              "array([0.75919044])"
            ]
          },
          "metadata": {},
          "execution_count": 45
        }
      ]
    },
    {
      "cell_type": "markdown",
      "source": [
        "Linha base para esta base de dados é de 75%, ou seja, um algoritmo precisa ter precisão maior que este valor, caso o contrário é mais fácil fazer a classificação de novos registro de acordo com a classe que mais se repete na base de dados."
      ],
      "metadata": {
        "id": "gwWTElHcFFTU"
      }
    },
    {
      "cell_type": "code",
      "source": [
        "Counter(str(registro.get_class()) for registro in base_census)"
      ],
      "metadata": {
        "colab": {
          "base_uri": "https://localhost:8080/"
        },
        "id": "g9zP4TRCF5aH",
        "outputId": "f48e8a9a-0b9f-4bb9-dfb9-406ad0597994"
      },
      "execution_count": null,
      "outputs": [
        {
          "output_type": "execute_result",
          "data": {
            "text/plain": [
              "Counter({'<=50K': 24720, '>50K': 7841})"
            ]
          },
          "metadata": {},
          "execution_count": 47
        }
      ]
    },
    {
      "cell_type": "code",
      "source": [
        "24720 / (24720+7841)"
      ],
      "metadata": {
        "colab": {
          "base_uri": "https://localhost:8080/"
        },
        "id": "k-PXp7jbGQOH",
        "outputId": "a9e5a44a-6786-46a7-f290-b679e1d74455"
      },
      "execution_count": null,
      "outputs": [
        {
          "output_type": "execute_result",
          "data": {
            "text/plain": [
              "0.7591904425539756"
            ]
          },
          "metadata": {},
          "execution_count": 50
        }
      ]
    },
    {
      "cell_type": "markdown",
      "source": [
        "classificador base é interessante para que possamos descobrir a quantidade minima de acerto que um algoritmo (para previsão)  deve ter para que possamos leva-lo em consideração."
      ],
      "metadata": {
        "id": "xuRnF_43Gfxj"
      }
    }
  ]
}